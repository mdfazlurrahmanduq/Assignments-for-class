{
 "cells": [
  {
   "cell_type": "code",
   "execution_count": 1,
   "id": "4ffdfd4e-948e-4a7a-a508-713b72b109da",
   "metadata": {},
   "outputs": [
    {
     "data": {
      "text/html": [
       "<div>\n",
       "<style scoped>\n",
       "    .dataframe tbody tr th:only-of-type {\n",
       "        vertical-align: middle;\n",
       "    }\n",
       "\n",
       "    .dataframe tbody tr th {\n",
       "        vertical-align: top;\n",
       "    }\n",
       "\n",
       "    .dataframe thead th {\n",
       "        text-align: right;\n",
       "    }\n",
       "</style>\n",
       "<table border=\"1\" class=\"dataframe\">\n",
       "  <thead>\n",
       "    <tr style=\"text-align: right;\">\n",
       "      <th></th>\n",
       "      <th>ID</th>\n",
       "      <th>DOMAIN_ID</th>\n",
       "      <th>MACHINE_ID</th>\n",
       "      <th>SITE_SESSION_ID</th>\n",
       "      <th>TRANS_FREQ</th>\n",
       "      <th>DOMAIN_NAME</th>\n",
       "      <th>DIRECTP_D</th>\n",
       "      <th>PROD_NAME</th>\n",
       "      <th>PROD_QTY</th>\n",
       "      <th>PROD_TOTPRICE</th>\n",
       "      <th>REF_DOMAIN_NAME</th>\n",
       "      <th>DURATION</th>\n",
       "      <th>PAGES_VIEWED</th>\n",
       "      <th>HOUSEHOLD_SIZE</th>\n",
       "      <th>CHILDREN_D</th>\n",
       "      <th>CONNECTIONSPEED_D</th>\n",
       "    </tr>\n",
       "  </thead>\n",
       "  <tbody>\n",
       "    <tr>\n",
       "      <th>0</th>\n",
       "      <td>1525</td>\n",
       "      <td>13877604970862366012</td>\n",
       "      <td>85643811</td>\n",
       "      <td>4447900536932</td>\n",
       "      <td>1</td>\n",
       "      <td>ichotelsgroup.com</td>\n",
       "      <td>1</td>\n",
       "      <td>FT. LAUDERDALE AIRPORT/CRUISE - CROWNE PLAZA H...</td>\n",
       "      <td>32</td>\n",
       "      <td>2847.039993</td>\n",
       "      <td>NaN</td>\n",
       "      <td>23.328125</td>\n",
       "      <td>13</td>\n",
       "      <td>6</td>\n",
       "      <td>1</td>\n",
       "      <td>1</td>\n",
       "    </tr>\n",
       "    <tr>\n",
       "      <th>1</th>\n",
       "      <td>402</td>\n",
       "      <td>7101213156062330967</td>\n",
       "      <td>76460408</td>\n",
       "      <td>71774258860245</td>\n",
       "      <td>1</td>\n",
       "      <td>orbitz.com</td>\n",
       "      <td>0</td>\n",
       "      <td>WALT DISNEY WORLD MAGIC YOUR WAY TICKETS! N/A</td>\n",
       "      <td>1</td>\n",
       "      <td>2406.939995</td>\n",
       "      <td>yahoo.com</td>\n",
       "      <td>47.109375</td>\n",
       "      <td>17</td>\n",
       "      <td>2</td>\n",
       "      <td>1</td>\n",
       "      <td>1</td>\n",
       "    </tr>\n",
       "    <tr>\n",
       "      <th>2</th>\n",
       "      <td>233</td>\n",
       "      <td>7772350535129410931</td>\n",
       "      <td>74286590</td>\n",
       "      <td>3825866182640</td>\n",
       "      <td>1</td>\n",
       "      <td>hyatt.com</td>\n",
       "      <td>1</td>\n",
       "      <td>HYATT REGENCY MAUI RESORT  SPA FRI 11 MAR 2011...</td>\n",
       "      <td>5</td>\n",
       "      <td>2168.000000</td>\n",
       "      <td>google.com</td>\n",
       "      <td>20.058594</td>\n",
       "      <td>19</td>\n",
       "      <td>1</td>\n",
       "      <td>0</td>\n",
       "      <td>1</td>\n",
       "    </tr>\n",
       "    <tr>\n",
       "      <th>3</th>\n",
       "      <td>2362</td>\n",
       "      <td>9530952911301729568</td>\n",
       "      <td>90015830</td>\n",
       "      <td>70000481538306</td>\n",
       "      <td>1</td>\n",
       "      <td>expedia.com</td>\n",
       "      <td>0</td>\n",
       "      <td>HOTEL - THE ADDRESS DUBAI MARINA ~SAT DEC/10/2...</td>\n",
       "      <td>5</td>\n",
       "      <td>1958.699997</td>\n",
       "      <td>NaN</td>\n",
       "      <td>47.546875</td>\n",
       "      <td>39</td>\n",
       "      <td>1</td>\n",
       "      <td>0</td>\n",
       "      <td>1</td>\n",
       "    </tr>\n",
       "    <tr>\n",
       "      <th>4</th>\n",
       "      <td>2738</td>\n",
       "      <td>4024709573451844450</td>\n",
       "      <td>91435029</td>\n",
       "      <td>5158448795791</td>\n",
       "      <td>2</td>\n",
       "      <td>starwoodhotels.com</td>\n",
       "      <td>1</td>\n",
       "      <td>HOTEL-W NEW YORK - TIMES SQUARE 08/18~08/21</td>\n",
       "      <td>3</td>\n",
       "      <td>1797.000000</td>\n",
       "      <td>whotels.com</td>\n",
       "      <td>14.599609</td>\n",
       "      <td>19</td>\n",
       "      <td>1</td>\n",
       "      <td>0</td>\n",
       "      <td>1</td>\n",
       "    </tr>\n",
       "  </tbody>\n",
       "</table>\n",
       "</div>"
      ],
      "text/plain": [
       "     ID             DOMAIN_ID  MACHINE_ID  SITE_SESSION_ID  TRANS_FREQ  \\\n",
       "0  1525  13877604970862366012    85643811    4447900536932           1   \n",
       "1   402   7101213156062330967    76460408   71774258860245           1   \n",
       "2   233   7772350535129410931    74286590    3825866182640           1   \n",
       "3  2362   9530952911301729568    90015830   70000481538306           1   \n",
       "4  2738   4024709573451844450    91435029    5158448795791           2   \n",
       "\n",
       "          DOMAIN_NAME  DIRECTP_D  \\\n",
       "0   ichotelsgroup.com          1   \n",
       "1          orbitz.com          0   \n",
       "2           hyatt.com          1   \n",
       "3         expedia.com          0   \n",
       "4  starwoodhotels.com          1   \n",
       "\n",
       "                                           PROD_NAME  PROD_QTY  PROD_TOTPRICE  \\\n",
       "0  FT. LAUDERDALE AIRPORT/CRUISE - CROWNE PLAZA H...        32    2847.039993   \n",
       "1      WALT DISNEY WORLD MAGIC YOUR WAY TICKETS! N/A         1    2406.939995   \n",
       "2  HYATT REGENCY MAUI RESORT  SPA FRI 11 MAR 2011...         5    2168.000000   \n",
       "3  HOTEL - THE ADDRESS DUBAI MARINA ~SAT DEC/10/2...         5    1958.699997   \n",
       "4        HOTEL-W NEW YORK - TIMES SQUARE 08/18~08/21         3    1797.000000   \n",
       "\n",
       "  REF_DOMAIN_NAME   DURATION  PAGES_VIEWED  HOUSEHOLD_SIZE  CHILDREN_D  \\\n",
       "0             NaN  23.328125            13               6           1   \n",
       "1       yahoo.com  47.109375            17               2           1   \n",
       "2      google.com  20.058594            19               1           0   \n",
       "3             NaN  47.546875            39               1           0   \n",
       "4     whotels.com  14.599609            19               1           0   \n",
       "\n",
       "   CONNECTIONSPEED_D  \n",
       "0                  1  \n",
       "1                  1  \n",
       "2                  1  \n",
       "3                  1  \n",
       "4                  1  "
      ]
     },
     "execution_count": 1,
     "metadata": {},
     "output_type": "execute_result"
    }
   ],
   "source": [
    "import pandas as pd\n",
    "from scipy import stats\n",
    "df=pd.read_csv(\"HotelClickStream1.csv\")\n",
    "df.head(5)"
   ]
  },
  {
   "cell_type": "code",
   "execution_count": 2,
   "id": "d0ad89cd-b572-4a63-a648-d0ced03b6b70",
   "metadata": {},
   "outputs": [
    {
     "name": "stdout",
     "output_type": "stream",
     "text": [
      "['ID' 'DOMAIN_ID' 'MACHINE_ID' 'SITE_SESSION_ID' 'TRANS_FREQ'\n",
      " 'DOMAIN_NAME' 'DIRECTP_D' 'PROD_NAME' 'PROD_QTY' 'PROD_TOTPRICE'\n",
      " 'REF_DOMAIN_NAME' 'DURATION' 'PAGES_VIEWED' 'HOUSEHOLD_SIZE' 'CHILDREN_D'\n",
      " 'CONNECTIONSPEED_D']\n",
      "<class 'pandas.core.frame.DataFrame'>\n",
      "RangeIndex: 3749 entries, 0 to 3748\n",
      "Data columns (total 16 columns):\n",
      " #   Column             Non-Null Count  Dtype  \n",
      "---  ------             --------------  -----  \n",
      " 0   ID                 3749 non-null   int64  \n",
      " 1   DOMAIN_ID          3749 non-null   uint64 \n",
      " 2   MACHINE_ID         3749 non-null   int64  \n",
      " 3   SITE_SESSION_ID    3749 non-null   int64  \n",
      " 4   TRANS_FREQ         3749 non-null   int64  \n",
      " 5   DOMAIN_NAME        3749 non-null   object \n",
      " 6   DIRECTP_D          3749 non-null   int64  \n",
      " 7   PROD_NAME          3749 non-null   object \n",
      " 8   PROD_QTY           3749 non-null   int64  \n",
      " 9   PROD_TOTPRICE      3749 non-null   float64\n",
      " 10  REF_DOMAIN_NAME    1687 non-null   object \n",
      " 11  DURATION           3749 non-null   float64\n",
      " 12  PAGES_VIEWED       3749 non-null   int64  \n",
      " 13  HOUSEHOLD_SIZE     3749 non-null   int64  \n",
      " 14  CHILDREN_D         3749 non-null   int64  \n",
      " 15  CONNECTIONSPEED_D  3749 non-null   int64  \n",
      "dtypes: float64(2), int64(10), object(3), uint64(1)\n",
      "memory usage: 468.8+ KB\n",
      "None\n",
      "(3749, 16)\n"
     ]
    }
   ],
   "source": [
    "print(df.columns.values)\n",
    "print (df.info())\n",
    "print (df.shape)"
   ]
  },
  {
   "cell_type": "markdown",
   "id": "961b4bd9-752c-458f-9c71-35389f200579",
   "metadata": {},
   "source": [
    "# Section A: Explorative analysis 1A"
   ]
  },
  {
   "cell_type": "code",
   "execution_count": 3,
   "id": "7c19696e-9881-442b-8b11-a5aa85ad3677",
   "metadata": {},
   "outputs": [
    {
     "name": "stdout",
     "output_type": "stream",
     "text": [
      "DOMAIN_NAME\n",
      "marriott.com        524\n",
      "hilton.com          438\n",
      "hotels.com          400\n",
      "expedia.com         380\n",
      "priceline.com       309\n",
      "choicehotels.com    297\n",
      "jetblue.com         229\n",
      "hotwire.com         217\n",
      "bestwestern.com     120\n",
      "orbitz.com          109\n",
      "Name: count, dtype: int64\n"
     ]
    }
   ],
   "source": [
    "if 'DOMAIN_NAME' in df.columns:\n",
    "    domain_counts= df['DOMAIN_NAME'].value_counts()#.reset.index()\n",
    "    domain_counts.columns= ['DOMAIN_NAME', 'Transaction_Count']\n",
    "    top_10= domain_counts.head(10)\n",
    "    print (top_10)\n",
    "else:\n",
    "    print(\"error\")"
   ]
  },
  {
   "cell_type": "markdown",
   "id": "25bb57c4-1121-467a-8778-f44122ef2db3",
   "metadata": {},
   "source": [
    "# 1.B."
   ]
  },
  {
   "cell_type": "code",
   "execution_count": 4,
   "id": "678a3ef6-f6e7-4274-a35d-78ae03e13d73",
   "metadata": {},
   "outputs": [
    {
     "name": "stdout",
     "output_type": "stream",
     "text": [
      "REF_DOMAIN_NAME\n",
      "google.com           620\n",
      "yahoo.com            222\n",
      "bing.com             129\n",
      "aol.com               53\n",
      "comfortinn.com        48\n",
      "jetblue.com           43\n",
      "qualityinn.com        29\n",
      "comfortsuites.com     22\n",
      "kayak.com             20\n",
      "mywebsearch.com       17\n",
      "Name: count, dtype: int64\n"
     ]
    }
   ],
   "source": [
    "if 'REF_DOMAIN_NAME' in df.columns:\n",
    "    domain_counts= df['REF_DOMAIN_NAME'].value_counts()#.reset.index()\n",
    "    domain_counts.columns= ['REF_DOMAIN_NAME', 'Transaction_Count']\n",
    "    top_10= domain_counts.head(10)\n",
    "    print (top_10)\n",
    "else:\n",
    "    print(\"error\")"
   ]
  },
  {
   "cell_type": "markdown",
   "id": "51a470e6-f4e3-4434-9293-45b3ceb521e8",
   "metadata": {},
   "source": [
    "# 2.A."
   ]
  },
  {
   "cell_type": "code",
   "execution_count": 5,
   "id": "793dc056-58bc-489d-a013-0b0cb8ab64b0",
   "metadata": {},
   "outputs": [],
   "source": [
    "import numpy as np\n",
    "df['REF_D'] = np.where(df['REF_DOMAIN_NAME'].isnull(), 0, 1)"
   ]
  },
  {
   "cell_type": "markdown",
   "id": "7071dcc9-aeb3-4213-a3ea-e67c7306db0b",
   "metadata": {},
   "source": [
    "# 2.B."
   ]
  },
  {
   "cell_type": "code",
   "execution_count": 7,
   "id": "2d1e38d2-3530-453f-996f-76e598105a67",
   "metadata": {},
   "outputs": [
    {
     "data": {
      "text/html": [
       "<div>\n",
       "<style scoped>\n",
       "    .dataframe tbody tr th:only-of-type {\n",
       "        vertical-align: middle;\n",
       "    }\n",
       "\n",
       "    .dataframe tbody tr th {\n",
       "        vertical-align: top;\n",
       "    }\n",
       "\n",
       "    .dataframe thead th {\n",
       "        text-align: right;\n",
       "    }\n",
       "</style>\n",
       "<table border=\"1\" class=\"dataframe\">\n",
       "  <thead>\n",
       "    <tr style=\"text-align: right;\">\n",
       "      <th></th>\n",
       "      <th>ID</th>\n",
       "      <th>DOMAIN_ID</th>\n",
       "      <th>MACHINE_ID</th>\n",
       "      <th>SITE_SESSION_ID</th>\n",
       "      <th>TRANS_FREQ</th>\n",
       "      <th>DOMAIN_NAME</th>\n",
       "      <th>DIRECTP_D</th>\n",
       "      <th>PROD_NAME</th>\n",
       "      <th>PROD_QTY</th>\n",
       "      <th>PROD_TOTPRICE</th>\n",
       "      <th>REF_DOMAIN_NAME</th>\n",
       "      <th>DURATION</th>\n",
       "      <th>PAGES_VIEWED</th>\n",
       "      <th>HOUSEHOLD_SIZE</th>\n",
       "      <th>CHILDREN_D</th>\n",
       "      <th>CONNECTIONSPEED_D</th>\n",
       "      <th>REF_D</th>\n",
       "      <th>LOG_PRICE</th>\n",
       "    </tr>\n",
       "  </thead>\n",
       "  <tbody>\n",
       "    <tr>\n",
       "      <th>0</th>\n",
       "      <td>1525</td>\n",
       "      <td>13877604970862366012</td>\n",
       "      <td>85643811</td>\n",
       "      <td>4447900536932</td>\n",
       "      <td>1</td>\n",
       "      <td>ichotelsgroup.com</td>\n",
       "      <td>1</td>\n",
       "      <td>FT. LAUDERDALE AIRPORT/CRUISE - CROWNE PLAZA H...</td>\n",
       "      <td>32</td>\n",
       "      <td>2847.039993</td>\n",
       "      <td>NaN</td>\n",
       "      <td>23.328125</td>\n",
       "      <td>13</td>\n",
       "      <td>6</td>\n",
       "      <td>1</td>\n",
       "      <td>1</td>\n",
       "      <td>0</td>\n",
       "      <td>7.954386</td>\n",
       "    </tr>\n",
       "    <tr>\n",
       "      <th>1</th>\n",
       "      <td>402</td>\n",
       "      <td>7101213156062330967</td>\n",
       "      <td>76460408</td>\n",
       "      <td>71774258860245</td>\n",
       "      <td>1</td>\n",
       "      <td>orbitz.com</td>\n",
       "      <td>0</td>\n",
       "      <td>WALT DISNEY WORLD MAGIC YOUR WAY TICKETS! N/A</td>\n",
       "      <td>1</td>\n",
       "      <td>2406.939995</td>\n",
       "      <td>yahoo.com</td>\n",
       "      <td>47.109375</td>\n",
       "      <td>17</td>\n",
       "      <td>2</td>\n",
       "      <td>1</td>\n",
       "      <td>1</td>\n",
       "      <td>1</td>\n",
       "      <td>7.786527</td>\n",
       "    </tr>\n",
       "    <tr>\n",
       "      <th>2</th>\n",
       "      <td>233</td>\n",
       "      <td>7772350535129410931</td>\n",
       "      <td>74286590</td>\n",
       "      <td>3825866182640</td>\n",
       "      <td>1</td>\n",
       "      <td>hyatt.com</td>\n",
       "      <td>1</td>\n",
       "      <td>HYATT REGENCY MAUI RESORT  SPA FRI 11 MAR 2011...</td>\n",
       "      <td>5</td>\n",
       "      <td>2168.000000</td>\n",
       "      <td>google.com</td>\n",
       "      <td>20.058594</td>\n",
       "      <td>19</td>\n",
       "      <td>1</td>\n",
       "      <td>0</td>\n",
       "      <td>1</td>\n",
       "      <td>1</td>\n",
       "      <td>7.682022</td>\n",
       "    </tr>\n",
       "    <tr>\n",
       "      <th>3</th>\n",
       "      <td>2362</td>\n",
       "      <td>9530952911301729568</td>\n",
       "      <td>90015830</td>\n",
       "      <td>70000481538306</td>\n",
       "      <td>1</td>\n",
       "      <td>expedia.com</td>\n",
       "      <td>0</td>\n",
       "      <td>HOTEL - THE ADDRESS DUBAI MARINA ~SAT DEC/10/2...</td>\n",
       "      <td>5</td>\n",
       "      <td>1958.699997</td>\n",
       "      <td>NaN</td>\n",
       "      <td>47.546875</td>\n",
       "      <td>39</td>\n",
       "      <td>1</td>\n",
       "      <td>0</td>\n",
       "      <td>1</td>\n",
       "      <td>0</td>\n",
       "      <td>7.580547</td>\n",
       "    </tr>\n",
       "    <tr>\n",
       "      <th>4</th>\n",
       "      <td>2738</td>\n",
       "      <td>4024709573451844450</td>\n",
       "      <td>91435029</td>\n",
       "      <td>5158448795791</td>\n",
       "      <td>2</td>\n",
       "      <td>starwoodhotels.com</td>\n",
       "      <td>1</td>\n",
       "      <td>HOTEL-W NEW YORK - TIMES SQUARE 08/18~08/21</td>\n",
       "      <td>3</td>\n",
       "      <td>1797.000000</td>\n",
       "      <td>whotels.com</td>\n",
       "      <td>14.599609</td>\n",
       "      <td>19</td>\n",
       "      <td>1</td>\n",
       "      <td>0</td>\n",
       "      <td>1</td>\n",
       "      <td>1</td>\n",
       "      <td>7.494430</td>\n",
       "    </tr>\n",
       "  </tbody>\n",
       "</table>\n",
       "</div>"
      ],
      "text/plain": [
       "     ID             DOMAIN_ID  MACHINE_ID  SITE_SESSION_ID  TRANS_FREQ  \\\n",
       "0  1525  13877604970862366012    85643811    4447900536932           1   \n",
       "1   402   7101213156062330967    76460408   71774258860245           1   \n",
       "2   233   7772350535129410931    74286590    3825866182640           1   \n",
       "3  2362   9530952911301729568    90015830   70000481538306           1   \n",
       "4  2738   4024709573451844450    91435029    5158448795791           2   \n",
       "\n",
       "          DOMAIN_NAME  DIRECTP_D  \\\n",
       "0   ichotelsgroup.com          1   \n",
       "1          orbitz.com          0   \n",
       "2           hyatt.com          1   \n",
       "3         expedia.com          0   \n",
       "4  starwoodhotels.com          1   \n",
       "\n",
       "                                           PROD_NAME  PROD_QTY  PROD_TOTPRICE  \\\n",
       "0  FT. LAUDERDALE AIRPORT/CRUISE - CROWNE PLAZA H...        32    2847.039993   \n",
       "1      WALT DISNEY WORLD MAGIC YOUR WAY TICKETS! N/A         1    2406.939995   \n",
       "2  HYATT REGENCY MAUI RESORT  SPA FRI 11 MAR 2011...         5    2168.000000   \n",
       "3  HOTEL - THE ADDRESS DUBAI MARINA ~SAT DEC/10/2...         5    1958.699997   \n",
       "4        HOTEL-W NEW YORK - TIMES SQUARE 08/18~08/21         3    1797.000000   \n",
       "\n",
       "  REF_DOMAIN_NAME   DURATION  PAGES_VIEWED  HOUSEHOLD_SIZE  CHILDREN_D  \\\n",
       "0             NaN  23.328125            13               6           1   \n",
       "1       yahoo.com  47.109375            17               2           1   \n",
       "2      google.com  20.058594            19               1           0   \n",
       "3             NaN  47.546875            39               1           0   \n",
       "4     whotels.com  14.599609            19               1           0   \n",
       "\n",
       "   CONNECTIONSPEED_D  REF_D  LOG_PRICE  \n",
       "0                  1      0   7.954386  \n",
       "1                  1      1   7.786527  \n",
       "2                  1      1   7.682022  \n",
       "3                  1      0   7.580547  \n",
       "4                  1      1   7.494430  "
      ]
     },
     "execution_count": 7,
     "metadata": {},
     "output_type": "execute_result"
    }
   ],
   "source": [
    "df['LOG_PRICE']=np.log1p(df.PROD_TOTPRICE)\n",
    "df.columns\n",
    "df.head(5)"
   ]
  },
  {
   "cell_type": "markdown",
   "id": "2b1d816d-96b9-4500-a0b7-9b88a6f0a1d3",
   "metadata": {},
   "source": [
    "# 3.A."
   ]
  },
  {
   "cell_type": "code",
   "execution_count": 8,
   "id": "d817895e-cd25-44b1-83be-a11166003a90",
   "metadata": {},
   "outputs": [
    {
     "name": "stdout",
     "output_type": "stream",
     "text": [
      "Summary Statistics:\n",
      "               count         max       min       mean        std\n",
      "DIRECTP_D     3749.0    1.000000  0.000000   0.481462   0.499723\n",
      "REF_D         3749.0    1.000000  0.000000   0.449987   0.497559\n",
      "DURATION      3749.0  227.343750  0.029999  25.317508  22.806497\n",
      "PAGES_VIEWED  3749.0  141.000000  1.000000  18.331288  16.636523\n",
      "LOG_PRICE     3749.0    7.954386  0.000000   4.439926   1.615478\n",
      "TRANS_FREQ    3749.0   30.000000  1.000000   2.981328   4.120927\n"
     ]
    }
   ],
   "source": [
    "selected_vars = ['DIRECTP_D', 'REF_D', 'DURATION', 'PAGES_VIEWED', 'LOG_PRICE', 'TRANS_FREQ']\n",
    "selected_df = df[selected_vars]\n",
    "\n",
    "# Calculate summary statistics\n",
    "summary_stats = selected_df.agg(['count', 'max', 'min', 'mean', 'std'])\n",
    "\n",
    "# Rename 'count' to 'N' for clarity\n",
    "summary_stats = summary_stats.rename(index={'count': 'count'})\n",
    "\n",
    "# Transpose the table for better readability\n",
    "summary_stats = summary_stats.T\n",
    "\n",
    "# Print the summary statistics table\n",
    "print(\"Summary Statistics:\")\n",
    "print(summary_stats)"
   ]
  },
  {
   "cell_type": "markdown",
   "id": "59e204de-eefd-426f-a0a6-011f37d792df",
   "metadata": {},
   "source": [
    "# 3.B."
   ]
  },
  {
   "cell_type": "code",
   "execution_count": 9,
   "id": "01a8f2b5-78c2-4416-87eb-516a5af1e3fc",
   "metadata": {},
   "outputs": [
    {
     "data": {
      "image/png": "[encoded data removed]",
      "text/plain": [
       "<Figure size 800x600 with 1 Axes>"
      ]
     },
     "metadata": {},
     "output_type": "display_data"
    }
   ],
   "source": [
    "import matplotlib.pyplot as plt\n",
    "import seaborn as sns\n",
    "plt.figure(figsize=(8, 6))\n",
    "plt.scatter(df['DURATION'], df['PAGES_VIEWED'], alpha=0.5)\n",
    "plt.title('Scatter Plot: Session Duration vs. Pages Viewed')\n",
    "plt.xlabel('Session Duration (minutes)')\n",
    "plt.ylabel('Pages Viewed')\n",
    "plt.grid(True)\n",
    "plt.show()"
   ]
  },
  {
   "cell_type": "code",
   "execution_count": 10,
   "id": "a31d8b20-3052-40bd-8aa6-0a2339360666",
   "metadata": {},
   "outputs": [
    {
     "name": "stderr",
     "output_type": "stream",
     "text": [
      "C:\\Users\\lasya\\anaconda3\\Lib\\site-packages\\seaborn\\_oldcore.py:1119: FutureWarning: use_inf_as_na option is deprecated and will be removed in a future version. Convert inf values to NaN before operating instead.\n",
      "  with pd.option_context('mode.use_inf_as_na', True):\n"
     ]
    },
    {
     "data": {
      "image/png": "[encoded data removed]",
      "text/plain": [
       "<Figure size 800x600 with 1 Axes>"
      ]
     },
     "metadata": {},
     "output_type": "display_data"
    }
   ],
   "source": [
    "plt.figure(figsize=(8, 6))\n",
    "#plt.hist(df['LOG_PRICE'], bins=20, edgecolor='black')\n",
    "ax = sns.histplot(df['LOG_PRICE'], bins=20, color='blue')# Add numbers on top of each bar\n",
    "\n",
    "for p in ax.patches:\n",
    "    height = p.get_height()\n",
    "    if height > 0:  # Avoid displaying 0 labels\n",
    "        ax.annotate(f'{int(height)}', \n",
    "                    (p.get_x() + p.get_width() / 2, height), \n",
    "                    ha='center', va='bottom', fontsize=10, color='black')\n",
    "\n",
    "plt.title('Histogram: Log-Transformed Price')\n",
    "plt.xlabel('Log-Transformed Price')\n",
    "plt.ylabel('Frequency')\n",
    "#plt.grid(axis='y', linestyle='--', alpha=0.7)\n",
    "\n",
    "plt.show()"
   ]
  },
  {
   "cell_type": "code",
   "execution_count": 11,
   "id": "8c1efd1e-cfec-432c-9a10-8d3645bcea9f",
   "metadata": {},
   "outputs": [
    {
     "data": {
      "text/plain": [
       "Index(['ID', 'DOMAIN_ID', 'MACHINE_ID', 'SITE_SESSION_ID', 'TRANS_FREQ',\n",
       "       'DOMAIN_NAME', 'DIRECTP_D', 'PROD_NAME', 'PROD_QTY', 'PROD_TOTPRICE',\n",
       "       'REF_DOMAIN_NAME', 'DURATION', 'PAGES_VIEWED', 'HOUSEHOLD_SIZE',\n",
       "       'CHILDREN_D', 'CONNECTIONSPEED_D', 'REF_D', 'LOG_PRICE',\n",
       "       'DOMAINNAME_CATEGORY'],\n",
       "      dtype='object')"
      ]
     },
     "execution_count": 11,
     "metadata": {},
     "output_type": "execute_result"
    }
   ],
   "source": [
    "df['DOMAIN_NAME'] = df['DOMAIN_NAME'].astype('category')\n",
    "df['DOMAINNAME_CATEGORY']=df['DOMAIN_NAME'].cat.codes\n",
    "df.columns"
   ]
  },
  {
   "cell_type": "code",
   "execution_count": 12,
   "id": "4e038f06-7108-47be-94b4-82760d67f5f1",
   "metadata": {},
   "outputs": [
    {
     "data": {
      "text/html": [
       "<div>\n",
       "<style scoped>\n",
       "    .dataframe tbody tr th:only-of-type {\n",
       "        vertical-align: middle;\n",
       "    }\n",
       "\n",
       "    .dataframe tbody tr th {\n",
       "        vertical-align: top;\n",
       "    }\n",
       "\n",
       "    .dataframe thead th {\n",
       "        text-align: right;\n",
       "    }\n",
       "</style>\n",
       "<table border=\"1\" class=\"dataframe\">\n",
       "  <thead>\n",
       "    <tr style=\"text-align: right;\">\n",
       "      <th></th>\n",
       "      <th>ID</th>\n",
       "      <th>DOMAIN_ID</th>\n",
       "      <th>MACHINE_ID</th>\n",
       "      <th>SITE_SESSION_ID</th>\n",
       "      <th>TRANS_FREQ</th>\n",
       "      <th>DOMAIN_NAME</th>\n",
       "      <th>DIRECTP_D</th>\n",
       "      <th>PROD_NAME</th>\n",
       "      <th>PROD_QTY</th>\n",
       "      <th>PROD_TOTPRICE</th>\n",
       "      <th>REF_DOMAIN_NAME</th>\n",
       "      <th>DURATION</th>\n",
       "      <th>PAGES_VIEWED</th>\n",
       "      <th>HOUSEHOLD_SIZE</th>\n",
       "      <th>CHILDREN_D</th>\n",
       "      <th>CONNECTIONSPEED_D</th>\n",
       "      <th>REF_D</th>\n",
       "      <th>LOG_PRICE</th>\n",
       "      <th>DOMAINNAME_CATEGORY</th>\n",
       "    </tr>\n",
       "  </thead>\n",
       "  <tbody>\n",
       "    <tr>\n",
       "      <th>0</th>\n",
       "      <td>1525</td>\n",
       "      <td>13877604970862366012</td>\n",
       "      <td>85643811</td>\n",
       "      <td>4447900536932</td>\n",
       "      <td>1</td>\n",
       "      <td>ichotelsgroup.com</td>\n",
       "      <td>1</td>\n",
       "      <td>FT. LAUDERDALE AIRPORT/CRUISE - CROWNE PLAZA H...</td>\n",
       "      <td>32</td>\n",
       "      <td>2847.039993</td>\n",
       "      <td>NaN</td>\n",
       "      <td>23.328125</td>\n",
       "      <td>13</td>\n",
       "      <td>6</td>\n",
       "      <td>1</td>\n",
       "      <td>1</td>\n",
       "      <td>0</td>\n",
       "      <td>7.954386</td>\n",
       "      <td>13</td>\n",
       "    </tr>\n",
       "    <tr>\n",
       "      <th>1</th>\n",
       "      <td>402</td>\n",
       "      <td>7101213156062330967</td>\n",
       "      <td>76460408</td>\n",
       "      <td>71774258860245</td>\n",
       "      <td>1</td>\n",
       "      <td>orbitz.com</td>\n",
       "      <td>0</td>\n",
       "      <td>WALT DISNEY WORLD MAGIC YOUR WAY TICKETS! N/A</td>\n",
       "      <td>1</td>\n",
       "      <td>2406.939995</td>\n",
       "      <td>yahoo.com</td>\n",
       "      <td>47.109375</td>\n",
       "      <td>17</td>\n",
       "      <td>2</td>\n",
       "      <td>1</td>\n",
       "      <td>1</td>\n",
       "      <td>1</td>\n",
       "      <td>7.786527</td>\n",
       "      <td>17</td>\n",
       "    </tr>\n",
       "    <tr>\n",
       "      <th>2</th>\n",
       "      <td>233</td>\n",
       "      <td>7772350535129410931</td>\n",
       "      <td>74286590</td>\n",
       "      <td>3825866182640</td>\n",
       "      <td>1</td>\n",
       "      <td>hyatt.com</td>\n",
       "      <td>1</td>\n",
       "      <td>HYATT REGENCY MAUI RESORT  SPA FRI 11 MAR 2011...</td>\n",
       "      <td>5</td>\n",
       "      <td>2168.000000</td>\n",
       "      <td>google.com</td>\n",
       "      <td>20.058594</td>\n",
       "      <td>19</td>\n",
       "      <td>1</td>\n",
       "      <td>0</td>\n",
       "      <td>1</td>\n",
       "      <td>1</td>\n",
       "      <td>7.682022</td>\n",
       "      <td>12</td>\n",
       "    </tr>\n",
       "    <tr>\n",
       "      <th>3</th>\n",
       "      <td>2362</td>\n",
       "      <td>9530952911301729568</td>\n",
       "      <td>90015830</td>\n",
       "      <td>70000481538306</td>\n",
       "      <td>1</td>\n",
       "      <td>expedia.com</td>\n",
       "      <td>0</td>\n",
       "      <td>HOTEL - THE ADDRESS DUBAI MARINA ~SAT DEC/10/2...</td>\n",
       "      <td>5</td>\n",
       "      <td>1958.699997</td>\n",
       "      <td>NaN</td>\n",
       "      <td>47.546875</td>\n",
       "      <td>39</td>\n",
       "      <td>1</td>\n",
       "      <td>0</td>\n",
       "      <td>1</td>\n",
       "      <td>0</td>\n",
       "      <td>7.580547</td>\n",
       "      <td>7</td>\n",
       "    </tr>\n",
       "    <tr>\n",
       "      <th>4</th>\n",
       "      <td>2738</td>\n",
       "      <td>4024709573451844450</td>\n",
       "      <td>91435029</td>\n",
       "      <td>5158448795791</td>\n",
       "      <td>2</td>\n",
       "      <td>starwoodhotels.com</td>\n",
       "      <td>1</td>\n",
       "      <td>HOTEL-W NEW YORK - TIMES SQUARE 08/18~08/21</td>\n",
       "      <td>3</td>\n",
       "      <td>1797.000000</td>\n",
       "      <td>whotels.com</td>\n",
       "      <td>14.599609</td>\n",
       "      <td>19</td>\n",
       "      <td>1</td>\n",
       "      <td>0</td>\n",
       "      <td>1</td>\n",
       "      <td>1</td>\n",
       "      <td>7.494430</td>\n",
       "      <td>24</td>\n",
       "    </tr>\n",
       "  </tbody>\n",
       "</table>\n",
       "</div>"
      ],
      "text/plain": [
       "     ID             DOMAIN_ID  MACHINE_ID  SITE_SESSION_ID  TRANS_FREQ  \\\n",
       "0  1525  13877604970862366012    85643811    4447900536932           1   \n",
       "1   402   7101213156062330967    76460408   71774258860245           1   \n",
       "2   233   7772350535129410931    74286590    3825866182640           1   \n",
       "3  2362   9530952911301729568    90015830   70000481538306           1   \n",
       "4  2738   4024709573451844450    91435029    5158448795791           2   \n",
       "\n",
       "          DOMAIN_NAME  DIRECTP_D  \\\n",
       "0   ichotelsgroup.com          1   \n",
       "1          orbitz.com          0   \n",
       "2           hyatt.com          1   \n",
       "3         expedia.com          0   \n",
       "4  starwoodhotels.com          1   \n",
       "\n",
       "                                           PROD_NAME  PROD_QTY  PROD_TOTPRICE  \\\n",
       "0  FT. LAUDERDALE AIRPORT/CRUISE - CROWNE PLAZA H...        32    2847.039993   \n",
       "1      WALT DISNEY WORLD MAGIC YOUR WAY TICKETS! N/A         1    2406.939995   \n",
       "2  HYATT REGENCY MAUI RESORT  SPA FRI 11 MAR 2011...         5    2168.000000   \n",
       "3  HOTEL - THE ADDRESS DUBAI MARINA ~SAT DEC/10/2...         5    1958.699997   \n",
       "4        HOTEL-W NEW YORK - TIMES SQUARE 08/18~08/21         3    1797.000000   \n",
       "\n",
       "  REF_DOMAIN_NAME   DURATION  PAGES_VIEWED  HOUSEHOLD_SIZE  CHILDREN_D  \\\n",
       "0             NaN  23.328125            13               6           1   \n",
       "1       yahoo.com  47.109375            17               2           1   \n",
       "2      google.com  20.058594            19               1           0   \n",
       "3             NaN  47.546875            39               1           0   \n",
       "4     whotels.com  14.599609            19               1           0   \n",
       "\n",
       "   CONNECTIONSPEED_D  REF_D  LOG_PRICE  DOMAINNAME_CATEGORY  \n",
       "0                  1      0   7.954386                   13  \n",
       "1                  1      1   7.786527                   17  \n",
       "2                  1      1   7.682022                   12  \n",
       "3                  1      0   7.580547                    7  \n",
       "4                  1      1   7.494430                   24  "
      ]
     },
     "execution_count": 12,
     "metadata": {},
     "output_type": "execute_result"
    }
   ],
   "source": [
    "df.head(5)\n"
   ]
  },
  {
   "cell_type": "markdown",
   "id": "a7dff37a-e999-47ee-b850-9553bc8d3bb3",
   "metadata": {},
   "source": [
    "# Section B: Regression analysis\n",
    " # 1"
   ]
  },
  {
   "cell_type": "code",
   "execution_count": 13,
   "id": "0c2dd93c-10f5-464f-822e-63a42ae5d675",
   "metadata": {},
   "outputs": [],
   "source": [
    "import pandas as pd\n",
    "import numpy as np\n",
    "import matplotlib.pyplot as plt\n",
    "import seaborn as sns\n",
    "from scipy import stats\n",
    "import statsmodels.api as sm\n",
    "%matplotlib inline\n",
    "#df.corr(method=\"pearson\")"
   ]
  },
  {
   "cell_type": "code",
   "execution_count": 14,
   "id": "ea633e8b-ce3a-43c0-a1fc-fd1f856cc280",
   "metadata": {},
   "outputs": [
    {
     "name": "stdout",
     "output_type": "stream",
     "text": [
      "Correlations with DURATION:\n",
      " DURATION               1.000000\n",
      "PAGES_VIEWED           0.685071\n",
      "PROD_QTY               0.127122\n",
      "DOMAINNAME_CATEGORY    0.058986\n",
      "CHILDREN_D             0.044570\n",
      "PROD_TOTPRICE          0.032113\n",
      "REF_D                  0.003514\n",
      "TRANS_FREQ            -0.010917\n",
      "HOUSEHOLD_SIZE        -0.014173\n",
      "CONNECTIONSPEED_D     -0.021533\n",
      "DIRECTP_D             -0.182002\n",
      "Name: DURATION, dtype: float64\n"
     ]
    }
   ],
   "source": [
    "numerical_cols = ['DURATION', 'TRANS_FREQ', 'DOMAINNAME_CATEGORY', 'DIRECTP_D', 'PROD_QTY', 'PROD_TOTPRICE', 'PAGES_VIEWED', 'HOUSEHOLD_SIZE', 'REF_D', 'CONNECTIONSPEED_D','CHILDREN_D']\n",
    "numerical_df = df[numerical_cols]\n",
    "correlations = numerical_df.corr()['DURATION'].sort_values(ascending=False)\n",
    "print(\"Correlations with DURATION:\\n\", correlations)"
   ]
  },
  {
   "cell_type": "code",
   "execution_count": 15,
   "id": "eba1ef69-2f2a-44e3-beaf-7aaabd52ade1",
   "metadata": {},
   "outputs": [
    {
     "data": {
      "text/plain": [
       "PearsonRResult(statistic=-0.010916691311282867, pvalue=0.5039957528908791)"
      ]
     },
     "execution_count": 15,
     "metadata": {},
     "output_type": "execute_result"
    }
   ],
   "source": [
    "stats.pearsonr(x=df[\"TRANS_FREQ\"], y=df[\"DURATION\"])"
   ]
  },
  {
   "cell_type": "code",
   "execution_count": 16,
   "id": "82aaf080-ff0e-4be9-b775-d86fc84b45ec",
   "metadata": {},
   "outputs": [
    {
     "data": {
      "text/plain": [
       "PearsonRResult(statistic=0.05898643996132516, pvalue=0.0003019427518841679)"
      ]
     },
     "execution_count": 16,
     "metadata": {},
     "output_type": "execute_result"
    }
   ],
   "source": [
    "stats.pearsonr(x=df[\"DOMAINNAME_CATEGORY\"], y=df[\"DURATION\"])"
   ]
  },
  {
   "cell_type": "code",
   "execution_count": 17,
   "id": "7a275100-509d-43f9-8d84-32b9b382b797",
   "metadata": {},
   "outputs": [
    {
     "data": {
      "text/plain": [
       "PearsonRResult(statistic=-0.18200167861759042, pvalue=2.77535432067049e-29)"
      ]
     },
     "execution_count": 17,
     "metadata": {},
     "output_type": "execute_result"
    }
   ],
   "source": [
    "stats.pearsonr(x=df[\"DIRECTP_D\"], y=df[\"DURATION\"])"
   ]
  },
  {
   "cell_type": "code",
   "execution_count": 18,
   "id": "9a2b56d9-a7c8-40f8-b907-6cae697feab5",
   "metadata": {},
   "outputs": [
    {
     "data": {
      "text/plain": [
       "PearsonRResult(statistic=0.12712173377243735, pvalue=5.599137610094796e-15)"
      ]
     },
     "execution_count": 18,
     "metadata": {},
     "output_type": "execute_result"
    }
   ],
   "source": [
    "stats.pearsonr(x=df[\"PROD_QTY\"], y=df[\"DURATION\"])"
   ]
  },
  {
   "cell_type": "code",
   "execution_count": 19,
   "id": "8b077d12-4244-43c1-8742-5fd7cec8c054",
   "metadata": {},
   "outputs": [
    {
     "data": {
      "text/plain": [
       "PearsonRResult(statistic=0.03211347865680612, pvalue=0.049283588974815114)"
      ]
     },
     "execution_count": 19,
     "metadata": {},
     "output_type": "execute_result"
    }
   ],
   "source": [
    "stats.pearsonr(x=df[\"PROD_TOTPRICE\"], y=df[\"DURATION\"])"
   ]
  },
  {
   "cell_type": "code",
   "execution_count": 20,
   "id": "e0c3e486-2d6f-40a5-af7c-d2c505f53229",
   "metadata": {},
   "outputs": [
    {
     "data": {
      "text/plain": [
       "PearsonRResult(statistic=0.6850714969488454, pvalue=0.0)"
      ]
     },
     "execution_count": 20,
     "metadata": {},
     "output_type": "execute_result"
    }
   ],
   "source": [
    "stats.pearsonr(x=df[\"PAGES_VIEWED\"], y=df[\"DURATION\"])"
   ]
  },
  {
   "cell_type": "code",
   "execution_count": 21,
   "id": "893c7ee2-1956-47c6-bd66-176dc35a97fd",
   "metadata": {},
   "outputs": [
    {
     "data": {
      "text/plain": [
       "PearsonRResult(statistic=0.003513510736149173, pvalue=0.829722140140584)"
      ]
     },
     "execution_count": 21,
     "metadata": {},
     "output_type": "execute_result"
    }
   ],
   "source": [
    "stats.pearsonr(x=df[\"REF_D\"], y=df[\"DURATION\"])"
   ]
  },
  {
   "cell_type": "code",
   "execution_count": 22,
   "id": "aa19bd8c-9264-49ad-8aa1-f29dfeeefa60",
   "metadata": {},
   "outputs": [
    {
     "data": {
      "text/plain": [
       "PearsonRResult(statistic=-0.014173327092272207, pvalue=0.3856276233846331)"
      ]
     },
     "execution_count": 22,
     "metadata": {},
     "output_type": "execute_result"
    }
   ],
   "source": [
    "stats.pearsonr(x=df[\"HOUSEHOLD_SIZE\"], y=df[\"DURATION\"])"
   ]
  },
  {
   "cell_type": "code",
   "execution_count": 23,
   "id": "60db8be3-8cb4-4df3-af85-79b7c734779e",
   "metadata": {},
   "outputs": [
    {
     "data": {
      "text/plain": [
       "PearsonRResult(statistic=-0.02153259465426687, pvalue=0.1874587698833819)"
      ]
     },
     "execution_count": 23,
     "metadata": {},
     "output_type": "execute_result"
    }
   ],
   "source": [
    "stats.pearsonr(x=df[\"CONNECTIONSPEED_D\"], y=df[\"DURATION\"])"
   ]
  },
  {
   "cell_type": "code",
   "execution_count": 24,
   "id": "46c069f9-95d7-4656-bd1f-de7107250ee9",
   "metadata": {},
   "outputs": [
    {
     "data": {
      "text/plain": [
       "PearsonRResult(statistic=0.04457028022911284, pvalue=0.006344132849180818)"
      ]
     },
     "execution_count": 24,
     "metadata": {},
     "output_type": "execute_result"
    }
   ],
   "source": [
    "stats.pearsonr(x=df[\"CHILDREN_D\"], y=df[\"DURATION\"])"
   ]
  },
  {
   "cell_type": "code",
   "execution_count": 25,
   "id": "88401b1a-0884-43f1-bd93-844b3c84ced8",
   "metadata": {},
   "outputs": [],
   "source": [
    "import statsmodels.api as sm"
   ]
  },
  {
   "cell_type": "code",
   "execution_count": 26,
   "id": "118b33e3-1c53-4dc1-800d-e3e2f0557c02",
   "metadata": {},
   "outputs": [
    {
     "name": "stdout",
     "output_type": "stream",
     "text": [
      "                                 OLS Regression Results                                \n",
      "=======================================================================================\n",
      "Dep. Variable:               DURATION   R-squared (uncentered):                   0.756\n",
      "Model:                            OLS   Adj. R-squared (uncentered):              0.756\n",
      "Method:                 Least Squares   F-statistic:                              3874.\n",
      "Date:                Tue, 18 Mar 2025   Prob (F-statistic):                        0.00\n",
      "Time:                        16:24:24   Log-Likelihood:                         -15902.\n",
      "No. Observations:                3749   AIC:                                  3.181e+04\n",
      "Df Residuals:                    3746   BIC:                                  3.183e+04\n",
      "Df Model:                           3                                                  \n",
      "Covariance Type:            nonrobust                                                  \n",
      "=======================================================================================\n",
      "                          coef    std err          t      P>|t|      [0.025      0.975]\n",
      "---------------------------------------------------------------------------------------\n",
      "DOMAINNAME_CATEGORY     0.2849      0.030      9.358      0.000       0.225       0.345\n",
      "PAGES_VIEWED            0.9832      0.016     61.445      0.000       0.952       1.015\n",
      "PROD_QTY                1.5839      0.179      8.847      0.000       1.233       1.935\n",
      "==============================================================================\n",
      "Omnibus:                     1140.274   Durbin-Watson:                   1.973\n",
      "Prob(Omnibus):                  0.000   Jarque-Bera (JB):             7836.590\n",
      "Skew:                           1.268   Prob(JB):                         0.00\n",
      "Kurtosis:                       9.613   Cond. No.                         17.5\n",
      "==============================================================================\n",
      "\n",
      "Notes:\n",
      "[1] R² is computed without centering (uncentered) since the model does not contain a constant.\n",
      "[2] Standard Errors assume that the covariance matrix of the errors is correctly specified.\n"
     ]
    }
   ],
   "source": [
    "mod = sm.OLS(df.DURATION,df[[\"DOMAINNAME_CATEGORY\",\"PAGES_VIEWED\",\"PROD_QTY\"]])\n",
    "res=mod.fit()\n",
    "print(res.summary())"
   ]
  },
  {
   "cell_type": "code",
   "execution_count": 27,
   "id": "14d43869-ac3a-4fa7-bacb-21419a2d16d1",
   "metadata": {},
   "outputs": [],
   "source": [
    "indepvar=sm.add_constant(df[[\"DOMAINNAME_CATEGORY\",\"PAGES_VIEWED\",\"PROD_QTY\"]])"
   ]
  },
  {
   "cell_type": "code",
   "execution_count": 28,
   "id": "4475b4bb-46a1-4dd6-8a47-fd6c935798b8",
   "metadata": {},
   "outputs": [
    {
     "name": "stdout",
     "output_type": "stream",
     "text": [
      "                            OLS Regression Results                            \n",
      "==============================================================================\n",
      "Dep. Variable:               DURATION   R-squared:                       0.471\n",
      "Model:                            OLS   Adj. R-squared:                  0.471\n",
      "Method:                 Least Squares   F-statistic:                     1112.\n",
      "Date:                Tue, 18 Mar 2025   Prob (F-statistic):               0.00\n",
      "Time:                        16:24:24   Log-Likelihood:                -15849.\n",
      "No. Observations:                3749   AIC:                         3.171e+04\n",
      "Df Residuals:                    3745   BIC:                         3.173e+04\n",
      "Df Model:                           3                                         \n",
      "Covariance Type:            nonrobust                                         \n",
      "=======================================================================================\n",
      "                          coef    std err          t      P>|t|      [0.025      0.975]\n",
      "---------------------------------------------------------------------------------------\n",
      "const                   7.3384      0.707     10.385      0.000       5.953       8.724\n",
      "DOMAINNAME_CATEGORY    -0.0230      0.042     -0.545      0.586      -0.106       0.060\n",
      "PAGES_VIEWED            0.9329      0.017     56.518      0.000       0.901       0.965\n",
      "PROD_QTY                0.6755      0.197      3.428      0.001       0.289       1.062\n",
      "==============================================================================\n",
      "Omnibus:                     1356.621   Durbin-Watson:                   1.976\n",
      "Prob(Omnibus):                  0.000   Jarque-Bera (JB):             9347.517\n",
      "Skew:                           1.552   Prob(JB):                         0.00\n",
      "Kurtosis:                      10.085   Cond. No.                         70.6\n",
      "==============================================================================\n",
      "\n",
      "Notes:\n",
      "[1] Standard Errors assume that the covariance matrix of the errors is correctly specified.\n"
     ]
    }
   ],
   "source": [
    "mod=sm.OLS(df.DURATION, indepvar)\n",
    "res=mod.fit()\n",
    "print(res.summary())"
   ]
  },
  {
   "cell_type": "code",
   "execution_count": null,
   "id": "a7a317b5-3691-4837-bc1d-681361fbe4c5",
   "metadata": {},
   "outputs": [],
   "source": []
  },
  {
   "cell_type": "markdown",
   "id": "03eeeb55-37f4-4c05-a4ca-ba1559e4c656",
   "metadata": {},
   "source": [
    "# 2"
   ]
  },
  {
   "cell_type": "code",
   "execution_count": 29,
   "id": "c29e4d5a-9991-47d2-8cf7-03702876c300",
   "metadata": {},
   "outputs": [
    {
     "name": "stdout",
     "output_type": "stream",
     "text": [
      "Correlations with PAGES_VEIWED:\n",
      " PAGES_VIEWED           1.000000\n",
      "DURATION               0.685071\n",
      "TRANS_FREQ             0.025028\n",
      "DOMAINNAME_CATEGORY    0.097144\n",
      "DIRECTP_D             -0.065661\n",
      "PROD_QTY               0.126278\n",
      "PROD_TOTPRICE         -0.024857\n",
      "HOUSEHOLD_SIZE        -0.008607\n",
      "REF_D                 -0.007442\n",
      "CHILDREN_D             0.033867\n",
      "CONNECTIONSPEED_D     -0.007393\n",
      "CHILDREN_D             0.033867\n",
      "Name: PAGES_VIEWED, dtype: float64\n"
     ]
    }
   ],
   "source": [
    "numerical_cols = ['PAGES_VIEWED','DURATION', 'TRANS_FREQ', 'DOMAINNAME_CATEGORY', 'DIRECTP_D', 'PROD_QTY', 'PROD_TOTPRICE', 'HOUSEHOLD_SIZE', 'REF_D', 'CHILDREN_D', 'CONNECTIONSPEED_D','CHILDREN_D']\n",
    "numerical_df = df[numerical_cols]\n",
    "correlations = numerical_df.corr()['PAGES_VIEWED']#.sort_values(ascending=False)\n",
    "print(\"Correlations with PAGES_VEIWED:\\n\", correlations)"
   ]
  },
  {
   "cell_type": "code",
   "execution_count": 30,
   "id": "7ddc376e-99b0-451f-a458-c6c33f271dd7",
   "metadata": {},
   "outputs": [
    {
     "data": {
      "text/plain": [
       "PearsonRResult(statistic=0.025028467464582448, pvalue=0.12547334735086027)"
      ]
     },
     "execution_count": 30,
     "metadata": {},
     "output_type": "execute_result"
    }
   ],
   "source": [
    "stats.pearsonr(x=df[\"TRANS_FREQ\"], y=df[\"PAGES_VIEWED\"])"
   ]
  },
  {
   "cell_type": "code",
   "execution_count": 31,
   "id": "0c4804b8-736b-4624-b640-6eb932dc4e11",
   "metadata": {},
   "outputs": [
    {
     "data": {
      "text/plain": [
       "PearsonRResult(statistic=0.09714356619793295, pvalue=2.520405122806838e-09)"
      ]
     },
     "execution_count": 31,
     "metadata": {},
     "output_type": "execute_result"
    }
   ],
   "source": [
    "stats.pearsonr(x=df[\"DOMAINNAME_CATEGORY\"], y=df[\"PAGES_VIEWED\"])"
   ]
  },
  {
   "cell_type": "code",
   "execution_count": 32,
   "id": "cf7b8973-eb58-478c-9117-1de3a8ee1394",
   "metadata": {},
   "outputs": [
    {
     "data": {
      "text/plain": [
       "PearsonRResult(statistic=-0.06566123654458966, pvalue=5.7369198973974726e-05)"
      ]
     },
     "execution_count": 32,
     "metadata": {},
     "output_type": "execute_result"
    }
   ],
   "source": [
    "stats.pearsonr(x=df[\"DIRECTP_D\"], y=df[\"PAGES_VIEWED\"])"
   ]
  },
  {
   "cell_type": "code",
   "execution_count": 33,
   "id": "8bb75223-acf2-4fe5-aadc-1644cd0e6523",
   "metadata": {},
   "outputs": [
    {
     "data": {
      "text/plain": [
       "PearsonRResult(statistic=0.12627838705261366, pvalue=8.465259595356152e-15)"
      ]
     },
     "execution_count": 33,
     "metadata": {},
     "output_type": "execute_result"
    }
   ],
   "source": [
    "stats.pearsonr(x=df[\"PROD_QTY\"], y=df[\"PAGES_VIEWED\"])"
   ]
  },
  {
   "cell_type": "code",
   "execution_count": 34,
   "id": "ff36717a-3439-4897-bd7c-f0b497f4ef34",
   "metadata": {},
   "outputs": [
    {
     "data": {
      "text/plain": [
       "PearsonRResult(statistic=-0.1285308892457606, pvalue=2.7892546482510402e-15)"
      ]
     },
     "execution_count": 34,
     "metadata": {},
     "output_type": "execute_result"
    }
   ],
   "source": [
    "stats.pearsonr(x=df[\"LOG_PRICE\"], y=df[\"PAGES_VIEWED\"])"
   ]
  },
  {
   "cell_type": "code",
   "execution_count": 35,
   "id": "d0f7dbbe-a593-4eef-8a74-33ebddc38fb6",
   "metadata": {},
   "outputs": [
    {
     "data": {
      "text/plain": [
       "PearsonRResult(statistic=0.6850714969488454, pvalue=0.0)"
      ]
     },
     "execution_count": 35,
     "metadata": {},
     "output_type": "execute_result"
    }
   ],
   "source": [
    "stats.pearsonr(x=df[\"DURATION\"], y=df[\"PAGES_VIEWED\"])"
   ]
  },
  {
   "cell_type": "code",
   "execution_count": 36,
   "id": "cd180f9d-3876-4222-8c9d-73037becb805",
   "metadata": {},
   "outputs": [
    {
     "data": {
      "text/plain": [
       "PearsonRResult(statistic=-0.008607005696039127, pvalue=0.5983095359098201)"
      ]
     },
     "execution_count": 36,
     "metadata": {},
     "output_type": "execute_result"
    }
   ],
   "source": [
    "stats.pearsonr(x=df[\"HOUSEHOLD_SIZE\"], y=df[\"PAGES_VIEWED\"])"
   ]
  },
  {
   "cell_type": "code",
   "execution_count": 37,
   "id": "6bcd94b4-6c71-4a3d-8d87-7302a9afc3d0",
   "metadata": {},
   "outputs": [
    {
     "data": {
      "text/plain": [
       "PearsonRResult(statistic=0.033867159863631785, pvalue=0.03812035478675899)"
      ]
     },
     "execution_count": 37,
     "metadata": {},
     "output_type": "execute_result"
    }
   ],
   "source": [
    "stats.pearsonr(x=df[\"CHILDREN_D\"], y=df[\"PAGES_VIEWED\"])"
   ]
  },
  {
   "cell_type": "code",
   "execution_count": 38,
   "id": "649bdacf-9da0-44c1-92cf-eee7e02c0c74",
   "metadata": {},
   "outputs": [
    {
     "data": {
      "text/plain": [
       "PearsonRResult(statistic=-0.00739310916816271, pvalue=0.6508883033747038)"
      ]
     },
     "execution_count": 38,
     "metadata": {},
     "output_type": "execute_result"
    }
   ],
   "source": [
    "stats.pearsonr(x=df[\"CONNECTIONSPEED_D\"], y=df[\"PAGES_VIEWED\"])"
   ]
  },
  {
   "cell_type": "code",
   "execution_count": 39,
   "id": "2bdf6844-4ade-4824-8546-510cdc6ed0a3",
   "metadata": {},
   "outputs": [
    {
     "data": {
      "text/plain": [
       "PearsonRResult(statistic=-0.007441941891433126, pvalue=0.6487369110944298)"
      ]
     },
     "execution_count": 39,
     "metadata": {},
     "output_type": "execute_result"
    }
   ],
   "source": [
    "stats.pearsonr(x=df[\"REF_D\"], y=df[\"PAGES_VIEWED\"])"
   ]
  },
  {
   "cell_type": "code",
   "execution_count": 40,
   "id": "3f463e99-9055-44b9-9a9a-1d4e8ed313a2",
   "metadata": {},
   "outputs": [
    {
     "name": "stdout",
     "output_type": "stream",
     "text": [
      "                                 OLS Regression Results                                \n",
      "=======================================================================================\n",
      "Dep. Variable:           PAGES_VIEWED   R-squared (uncentered):                   0.759\n",
      "Model:                            OLS   Adj. R-squared (uncentered):              0.759\n",
      "Method:                 Least Squares   F-statistic:                              2951.\n",
      "Date:                Tue, 18 Mar 2025   Prob (F-statistic):                        0.00\n",
      "Time:                        16:24:25   Log-Likelihood:                         -14681.\n",
      "No. Observations:                3749   AIC:                                  2.937e+04\n",
      "Df Residuals:                    3745   BIC:                                  2.940e+04\n",
      "Df Model:                           4                                                  \n",
      "Covariance Type:            nonrobust                                                  \n",
      "=======================================================================================\n",
      "                          coef    std err          t      P>|t|      [0.025      0.975]\n",
      "---------------------------------------------------------------------------------------\n",
      "TRANS_FREQ              0.2229      0.047      4.719      0.000       0.130       0.315\n",
      "DOMAINNAME_CATEGORY     0.2875      0.026     10.974      0.000       0.236       0.339\n",
      "DURATION                0.5194      0.008     62.536      0.000       0.503       0.536\n",
      "LOG_PRICE               0.1153      0.079      1.457      0.145      -0.040       0.271\n",
      "==============================================================================\n",
      "Omnibus:                     1549.504   Durbin-Watson:                   1.873\n",
      "Prob(Omnibus):                  0.000   Jarque-Bera (JB):            20427.711\n",
      "Skew:                           1.600   Prob(JB):                         0.00\n",
      "Kurtosis:                      13.979   Cond. No.                         14.7\n",
      "==============================================================================\n",
      "\n",
      "Notes:\n",
      "[1] R² is computed without centering (uncentered) since the model does not contain a constant.\n",
      "[2] Standard Errors assume that the covariance matrix of the errors is correctly specified.\n"
     ]
    }
   ],
   "source": [
    "mod = sm.OLS(df.PAGES_VIEWED,df[['TRANS_FREQ', 'DOMAINNAME_CATEGORY', 'DURATION', 'LOG_PRICE']])\n",
    "res=mod.fit()\n",
    "print(res.summary())"
   ]
  },
  {
   "cell_type": "code",
   "execution_count": 41,
   "id": "afc3b37b-21b8-444a-b95a-f9f719a467f4",
   "metadata": {},
   "outputs": [],
   "source": [
    "indepvar=sm.add_constant(df[['TRANS_FREQ', 'DOMAINNAME_CATEGORY', 'DURATION', 'LOG_PRICE']])"
   ]
  },
  {
   "cell_type": "code",
   "execution_count": 42,
   "id": "a514dc30-4904-468d-be7b-875a9536dfec",
   "metadata": {},
   "outputs": [
    {
     "name": "stdout",
     "output_type": "stream",
     "text": [
      "                            OLS Regression Results                            \n",
      "==============================================================================\n",
      "Dep. Variable:           PAGES_VIEWED   R-squared:                       0.479\n",
      "Model:                            OLS   Adj. R-squared:                  0.479\n",
      "Method:                 Least Squares   F-statistic:                     861.4\n",
      "Date:                Tue, 18 Mar 2025   Prob (F-statistic):               0.00\n",
      "Time:                        16:24:25   Log-Likelihood:                -14637.\n",
      "No. Observations:                3749   AIC:                         2.928e+04\n",
      "Df Residuals:                    3744   BIC:                         2.931e+04\n",
      "Df Model:                           4                                         \n",
      "Covariance Type:            nonrobust                                         \n",
      "=======================================================================================\n",
      "                          coef    std err          t      P>|t|      [0.025      0.975]\n",
      "---------------------------------------------------------------------------------------\n",
      "const                   7.2280      0.761      9.498      0.000       5.736       8.720\n",
      "TRANS_FREQ              0.1335      0.048      2.804      0.005       0.040       0.227\n",
      "DOMAINNAME_CATEGORY     0.1340      0.031      4.391      0.000       0.074       0.194\n",
      "DURATION                0.4938      0.009     57.155      0.000       0.477       0.511\n",
      "LOG_PRICE              -0.7746      0.122     -6.344      0.000      -1.014      -0.535\n",
      "==============================================================================\n",
      "Omnibus:                     1744.025   Durbin-Watson:                   1.902\n",
      "Prob(Omnibus):                  0.000   Jarque-Bera (JB):            24096.609\n",
      "Skew:                           1.851   Prob(JB):                         0.00\n",
      "Kurtosis:                      14.855   Cond. No.                         140.\n",
      "==============================================================================\n",
      "\n",
      "Notes:\n",
      "[1] Standard Errors assume that the covariance matrix of the errors is correctly specified.\n"
     ]
    }
   ],
   "source": [
    "mod=sm.OLS(df.PAGES_VIEWED, indepvar)\n",
    "res=mod.fit()\n",
    "print(res.summary())"
   ]
  }
 ],
 "metadata": {
  "kernelspec": {
   "display_name": "Python 3 (ipykernel)",
   "language": "python",
   "name": "python3"
  },
  "language_info": {
   "codemirror_mode": {
    "name": "ipython",
    "version": 3
   },
   "file_extension": ".py",
   "mimetype": "text/x-python",
   "name": "python",
   "nbconvert_exporter": "python",
   "pygments_lexer": "ipython3",
   "version": "3.11.4"
  }
 },
 "nbformat": 4,
 "nbformat_minor": 5
}
