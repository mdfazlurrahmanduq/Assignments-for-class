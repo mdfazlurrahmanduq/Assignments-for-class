{
 "cells": [
  {
   "cell_type": "markdown",
   "metadata": {},
   "source": [
    "You work for Giant Eagle and you have collected sales data for different products across different Giant Eagles in different cities.  Your goal is to build a predictive model to predict the sales of each product. Below are the variables you have in your dataset.\n",
    "\n",
    "* 'Product_Identifier': Unique product ID\n",
    "* 'Product_Weight': Weight of product\n",
    "* 'Product_Fat_Content': Whether the product is low fat or not\n",
    "* 'Product_Visibility': The % of total display area of all products in a store allocated to the particular product\n",
    "* 'Product_Type': The category to which the product belongs\n",
    "* 'Product_MRP': Maximum Retail Price (list price) of the product\n",
    "* 'Outlet_Identifier': Unique store ID\n",
    "* 'Outlet_Establishment_Year': The year in which store was established\n",
    "* 'Outlet_Size': The size of the store in terms of ground area\n",
    "* 'Outlet_Location_Type': The type of city in which the store is located\n",
    "* 'Outlet_Type': Whether the outlet is just a grocery store or some sort of supermarket\n",
    "* 'Product_Outlet_Sales': Sales of the product in the particular store. This is the outcome variable to be predicted.\n",
    "\n",
    "You want to run your model 1) with all the features and 2) with the lowest possible number of features that still explains (99% to 100%) of variance. Do not drop any variables other than Product Identifier and at the end of your code, compare the performance the two models you created and how you determined the number of features to keep in the second model.\n",
    "\n",
    "Please save your file as Assignment4_LastName."
   ]
  },
  {
   "cell_type": "code",
   "execution_count": 1,
   "metadata": {},
   "outputs": [],
   "source": [
    "import numpy as np\n",
    "import matplotlib.pyplot as plt\n",
    "import pandas as pd\n",
    "import seaborn as sns\n",
    "%matplotlib inline"
   ]
  },
  {
   "cell_type": "code",
   "execution_count": 2,
   "metadata": {},
   "outputs": [],
   "source": [
    "dataset = pd.read_csv('Sales.csv')"
   ]
  },
  {
   "cell_type": "code",
   "execution_count": 3,
   "metadata": {},
   "outputs": [
    {
     "name": "stdout",
     "output_type": "stream",
     "text": [
      "<class 'pandas.core.frame.DataFrame'>\n",
      "RangeIndex: 8523 entries, 0 to 8522\n",
      "Data columns (total 11 columns):\n",
      " #   Column                     Non-Null Count  Dtype  \n",
      "---  ------                     --------------  -----  \n",
      " 0   Product_Identifier         8523 non-null   object \n",
      " 1   Product_Weight             7060 non-null   float64\n",
      " 2   Product_Fat_Content        8523 non-null   object \n",
      " 3   Product_Visibility         8523 non-null   float64\n",
      " 4   Product_Type               8523 non-null   object \n",
      " 5   Product_MRP                8523 non-null   float64\n",
      " 6   Outlet_Establishment_Year  8523 non-null   int64  \n",
      " 7   Outlet_Size                6113 non-null   object \n",
      " 8   Outlet_Location_Type       8523 non-null   object \n",
      " 9   Outlet_Type                8523 non-null   object \n",
      " 10  Product_Outlet_Sales       8523 non-null   float64\n",
      "dtypes: float64(4), int64(1), object(6)\n",
      "memory usage: 732.6+ KB\n"
     ]
    }
   ],
   "source": [
    "dataset.info()"
   ]
  },
  {
   "cell_type": "code",
   "execution_count": 4,
   "metadata": {},
   "outputs": [
    {
     "data": {
      "text/html": [
       "<div>\n",
       "<style scoped>\n",
       "    .dataframe tbody tr th:only-of-type {\n",
       "        vertical-align: middle;\n",
       "    }\n",
       "\n",
       "    .dataframe tbody tr th {\n",
       "        vertical-align: top;\n",
       "    }\n",
       "\n",
       "    .dataframe thead th {\n",
       "        text-align: right;\n",
       "    }\n",
       "</style>\n",
       "<table border=\"1\" class=\"dataframe\">\n",
       "  <thead>\n",
       "    <tr style=\"text-align: right;\">\n",
       "      <th></th>\n",
       "      <th>Product_Identifier</th>\n",
       "      <th>Product_Weight</th>\n",
       "      <th>Product_Fat_Content</th>\n",
       "      <th>Product_Visibility</th>\n",
       "      <th>Product_Type</th>\n",
       "      <th>Product_MRP</th>\n",
       "      <th>Outlet_Establishment_Year</th>\n",
       "      <th>Outlet_Size</th>\n",
       "      <th>Outlet_Location_Type</th>\n",
       "      <th>Outlet_Type</th>\n",
       "      <th>Product_Outlet_Sales</th>\n",
       "    </tr>\n",
       "  </thead>\n",
       "  <tbody>\n",
       "    <tr>\n",
       "      <th>0</th>\n",
       "      <td>FDA15</td>\n",
       "      <td>9.30</td>\n",
       "      <td>Low Fat</td>\n",
       "      <td>0.016047</td>\n",
       "      <td>Dairy</td>\n",
       "      <td>249.8092</td>\n",
       "      <td>1999</td>\n",
       "      <td>Medium</td>\n",
       "      <td>Tier 1</td>\n",
       "      <td>Supermarket Type1</td>\n",
       "      <td>3735.1380</td>\n",
       "    </tr>\n",
       "    <tr>\n",
       "      <th>1</th>\n",
       "      <td>DRC01</td>\n",
       "      <td>5.92</td>\n",
       "      <td>Regular</td>\n",
       "      <td>0.019278</td>\n",
       "      <td>Soft Drinks</td>\n",
       "      <td>48.2692</td>\n",
       "      <td>2009</td>\n",
       "      <td>Medium</td>\n",
       "      <td>Tier 3</td>\n",
       "      <td>Supermarket Type2</td>\n",
       "      <td>443.4228</td>\n",
       "    </tr>\n",
       "    <tr>\n",
       "      <th>2</th>\n",
       "      <td>FDN15</td>\n",
       "      <td>17.50</td>\n",
       "      <td>Low Fat</td>\n",
       "      <td>0.016760</td>\n",
       "      <td>Meat</td>\n",
       "      <td>141.6180</td>\n",
       "      <td>1999</td>\n",
       "      <td>Medium</td>\n",
       "      <td>Tier 1</td>\n",
       "      <td>Supermarket Type1</td>\n",
       "      <td>2097.2700</td>\n",
       "    </tr>\n",
       "    <tr>\n",
       "      <th>3</th>\n",
       "      <td>FDX07</td>\n",
       "      <td>19.20</td>\n",
       "      <td>Regular</td>\n",
       "      <td>0.000000</td>\n",
       "      <td>Fruits and Vegetables</td>\n",
       "      <td>182.0950</td>\n",
       "      <td>1998</td>\n",
       "      <td>NaN</td>\n",
       "      <td>Tier 3</td>\n",
       "      <td>Grocery Store</td>\n",
       "      <td>732.3800</td>\n",
       "    </tr>\n",
       "    <tr>\n",
       "      <th>4</th>\n",
       "      <td>NCD19</td>\n",
       "      <td>8.93</td>\n",
       "      <td>Low Fat</td>\n",
       "      <td>0.000000</td>\n",
       "      <td>Household</td>\n",
       "      <td>53.8614</td>\n",
       "      <td>1987</td>\n",
       "      <td>High</td>\n",
       "      <td>Tier 3</td>\n",
       "      <td>Supermarket Type1</td>\n",
       "      <td>994.7052</td>\n",
       "    </tr>\n",
       "  </tbody>\n",
       "</table>\n",
       "</div>"
      ],
      "text/plain": [
       "  Product_Identifier  Product_Weight Product_Fat_Content  Product_Visibility  \\\n",
       "0              FDA15            9.30             Low Fat            0.016047   \n",
       "1              DRC01            5.92             Regular            0.019278   \n",
       "2              FDN15           17.50             Low Fat            0.016760   \n",
       "3              FDX07           19.20             Regular            0.000000   \n",
       "4              NCD19            8.93             Low Fat            0.000000   \n",
       "\n",
       "            Product_Type  Product_MRP  Outlet_Establishment_Year Outlet_Size  \\\n",
       "0                  Dairy     249.8092                       1999      Medium   \n",
       "1            Soft Drinks      48.2692                       2009      Medium   \n",
       "2                   Meat     141.6180                       1999      Medium   \n",
       "3  Fruits and Vegetables     182.0950                       1998         NaN   \n",
       "4              Household      53.8614                       1987        High   \n",
       "\n",
       "  Outlet_Location_Type        Outlet_Type  Product_Outlet_Sales  \n",
       "0               Tier 1  Supermarket Type1             3735.1380  \n",
       "1               Tier 3  Supermarket Type2              443.4228  \n",
       "2               Tier 1  Supermarket Type1             2097.2700  \n",
       "3               Tier 3      Grocery Store              732.3800  \n",
       "4               Tier 3  Supermarket Type1              994.7052  "
      ]
     },
     "execution_count": 4,
     "metadata": {},
     "output_type": "execute_result"
    }
   ],
   "source": [
    "dataset.head()"
   ]
  },
  {
   "cell_type": "code",
   "execution_count": 5,
   "metadata": {},
   "outputs": [
    {
     "data": {
      "text/html": [
       "<div>\n",
       "<style scoped>\n",
       "    .dataframe tbody tr th:only-of-type {\n",
       "        vertical-align: middle;\n",
       "    }\n",
       "\n",
       "    .dataframe tbody tr th {\n",
       "        vertical-align: top;\n",
       "    }\n",
       "\n",
       "    .dataframe thead th {\n",
       "        text-align: right;\n",
       "    }\n",
       "</style>\n",
       "<table border=\"1\" class=\"dataframe\">\n",
       "  <thead>\n",
       "    <tr style=\"text-align: right;\">\n",
       "      <th></th>\n",
       "      <th>Product_Weight</th>\n",
       "      <th>Product_Visibility</th>\n",
       "      <th>Product_MRP</th>\n",
       "      <th>Outlet_Establishment_Year</th>\n",
       "      <th>Product_Outlet_Sales</th>\n",
       "    </tr>\n",
       "  </thead>\n",
       "  <tbody>\n",
       "    <tr>\n",
       "      <th>count</th>\n",
       "      <td>7060.000000</td>\n",
       "      <td>8523.000000</td>\n",
       "      <td>8523.000000</td>\n",
       "      <td>8523.000000</td>\n",
       "      <td>8523.000000</td>\n",
       "    </tr>\n",
       "    <tr>\n",
       "      <th>mean</th>\n",
       "      <td>12.857645</td>\n",
       "      <td>0.066132</td>\n",
       "      <td>140.992782</td>\n",
       "      <td>1997.831867</td>\n",
       "      <td>2181.288914</td>\n",
       "    </tr>\n",
       "    <tr>\n",
       "      <th>std</th>\n",
       "      <td>4.643456</td>\n",
       "      <td>0.051598</td>\n",
       "      <td>62.275067</td>\n",
       "      <td>8.371760</td>\n",
       "      <td>1706.499616</td>\n",
       "    </tr>\n",
       "    <tr>\n",
       "      <th>min</th>\n",
       "      <td>4.555000</td>\n",
       "      <td>0.000000</td>\n",
       "      <td>31.290000</td>\n",
       "      <td>1985.000000</td>\n",
       "      <td>33.290000</td>\n",
       "    </tr>\n",
       "    <tr>\n",
       "      <th>25%</th>\n",
       "      <td>8.773750</td>\n",
       "      <td>0.026989</td>\n",
       "      <td>93.826500</td>\n",
       "      <td>1987.000000</td>\n",
       "      <td>834.247400</td>\n",
       "    </tr>\n",
       "    <tr>\n",
       "      <th>50%</th>\n",
       "      <td>12.600000</td>\n",
       "      <td>0.053931</td>\n",
       "      <td>143.012800</td>\n",
       "      <td>1999.000000</td>\n",
       "      <td>1794.331000</td>\n",
       "    </tr>\n",
       "    <tr>\n",
       "      <th>75%</th>\n",
       "      <td>16.850000</td>\n",
       "      <td>0.094585</td>\n",
       "      <td>185.643700</td>\n",
       "      <td>2004.000000</td>\n",
       "      <td>3101.296400</td>\n",
       "    </tr>\n",
       "    <tr>\n",
       "      <th>max</th>\n",
       "      <td>21.350000</td>\n",
       "      <td>0.328391</td>\n",
       "      <td>266.888400</td>\n",
       "      <td>2009.000000</td>\n",
       "      <td>13086.964800</td>\n",
       "    </tr>\n",
       "  </tbody>\n",
       "</table>\n",
       "</div>"
      ],
      "text/plain": [
       "       Product_Weight  Product_Visibility  Product_MRP  \\\n",
       "count     7060.000000         8523.000000  8523.000000   \n",
       "mean        12.857645            0.066132   140.992782   \n",
       "std          4.643456            0.051598    62.275067   \n",
       "min          4.555000            0.000000    31.290000   \n",
       "25%          8.773750            0.026989    93.826500   \n",
       "50%         12.600000            0.053931   143.012800   \n",
       "75%         16.850000            0.094585   185.643700   \n",
       "max         21.350000            0.328391   266.888400   \n",
       "\n",
       "       Outlet_Establishment_Year  Product_Outlet_Sales  \n",
       "count                8523.000000           8523.000000  \n",
       "mean                 1997.831867           2181.288914  \n",
       "std                     8.371760           1706.499616  \n",
       "min                  1985.000000             33.290000  \n",
       "25%                  1987.000000            834.247400  \n",
       "50%                  1999.000000           1794.331000  \n",
       "75%                  2004.000000           3101.296400  \n",
       "max                  2009.000000          13086.964800  "
      ]
     },
     "execution_count": 5,
     "metadata": {},
     "output_type": "execute_result"
    }
   ],
   "source": [
    "dataset.describe()"
   ]
  },
  {
   "cell_type": "code",
   "execution_count": 6,
   "metadata": {},
   "outputs": [],
   "source": [
    "dataset.drop(columns=['Product_Identifier'], inplace=True)"
   ]
  },
  {
   "cell_type": "code",
   "execution_count": 7,
   "metadata": {},
   "outputs": [
    {
     "data": {
      "text/plain": [
       "Index(['Product_Weight', 'Product_Fat_Content', 'Product_Visibility',\n",
       "       'Product_Type', 'Product_MRP', 'Outlet_Establishment_Year',\n",
       "       'Outlet_Size', 'Outlet_Location_Type', 'Outlet_Type',\n",
       "       'Product_Outlet_Sales'],\n",
       "      dtype='object')"
      ]
     },
     "execution_count": 7,
     "metadata": {},
     "output_type": "execute_result"
    }
   ],
   "source": [
    "dataset.keys()"
   ]
  },
  {
   "cell_type": "code",
   "execution_count": 8,
   "metadata": {
    "tags": []
   },
   "outputs": [],
   "source": [
    "mean_weight = dataset[\"Product_Weight\"].mean()\n",
    "dataset[\"Product_Weight\"].fillna(mean_weight, inplace=True)"
   ]
  },
  {
   "cell_type": "code",
   "execution_count": 9,
   "metadata": {
    "tags": []
   },
   "outputs": [],
   "source": [
    "most_common_outlet_size = dataset['Outlet_Size'].mode()"
   ]
  },
  {
   "cell_type": "code",
   "execution_count": 10,
   "metadata": {
    "tags": []
   },
   "outputs": [],
   "source": [
    "dataset['Outlet_Size'].fillna(most_common_outlet_size[0], inplace=True)"
   ]
  },
  {
   "cell_type": "code",
   "execution_count": 11,
   "metadata": {
    "tags": []
   },
   "outputs": [
    {
     "data": {
      "text/plain": [
       "Product_Weight               0\n",
       "Product_Fat_Content          0\n",
       "Product_Visibility           0\n",
       "Product_Type                 0\n",
       "Product_MRP                  0\n",
       "Outlet_Establishment_Year    0\n",
       "Outlet_Size                  0\n",
       "Outlet_Location_Type         0\n",
       "Outlet_Type                  0\n",
       "Product_Outlet_Sales         0\n",
       "dtype: int64"
      ]
     },
     "execution_count": 11,
     "metadata": {},
     "output_type": "execute_result"
    }
   ],
   "source": [
    "dataset.isnull().sum()"
   ]
  },
  {
   "cell_type": "code",
   "execution_count": 12,
   "metadata": {},
   "outputs": [
    {
     "data": {
      "text/plain": [
       "<Axes: >"
      ]
     },
     "execution_count": 12,
     "metadata": {},
     "output_type": "execute_result"
    },
    {
     "data": {
      "image/png": "[encoded data removed]",
      "text/plain": [
       "<Figure size 640x480 with 2 Axes>"
      ]
     },
     "metadata": {},
     "output_type": "display_data"
    }
   ],
   "source": [
    "sns.heatmap(dataset.isna())"
   ]
  },
  {
   "cell_type": "code",
   "execution_count": 13,
   "metadata": {
    "tags": []
   },
   "outputs": [],
   "source": [
    "dataset1=pd.get_dummies(dataset)"
   ]
  },
  {
   "cell_type": "code",
   "execution_count": 14,
   "metadata": {},
   "outputs": [],
   "source": [
    "X = dataset1.drop([\"Product_Outlet_Sales\"], axis=1)\n",
    "y = dataset1[\"Product_Outlet_Sales\"]"
   ]
  },
  {
   "cell_type": "code",
   "execution_count": 15,
   "metadata": {
    "tags": []
   },
   "outputs": [
    {
     "data": {
      "text/html": [
       "<div>\n",
       "<style scoped>\n",
       "    .dataframe tbody tr th:only-of-type {\n",
       "        vertical-align: middle;\n",
       "    }\n",
       "\n",
       "    .dataframe tbody tr th {\n",
       "        vertical-align: top;\n",
       "    }\n",
       "\n",
       "    .dataframe thead th {\n",
       "        text-align: right;\n",
       "    }\n",
       "</style>\n",
       "<table border=\"1\" class=\"dataframe\">\n",
       "  <thead>\n",
       "    <tr style=\"text-align: right;\">\n",
       "      <th></th>\n",
       "      <th>Product_Weight</th>\n",
       "      <th>Product_Visibility</th>\n",
       "      <th>Product_MRP</th>\n",
       "      <th>Outlet_Establishment_Year</th>\n",
       "      <th>Product_Fat_Content_LF</th>\n",
       "      <th>Product_Fat_Content_Low Fat</th>\n",
       "      <th>Product_Fat_Content_Regular</th>\n",
       "      <th>Product_Fat_Content_low fat</th>\n",
       "      <th>Product_Fat_Content_reg</th>\n",
       "      <th>Product_Type_Baking Goods</th>\n",
       "      <th>...</th>\n",
       "      <th>Outlet_Size_High</th>\n",
       "      <th>Outlet_Size_Medium</th>\n",
       "      <th>Outlet_Size_Small</th>\n",
       "      <th>Outlet_Location_Type_Tier 1</th>\n",
       "      <th>Outlet_Location_Type_Tier 2</th>\n",
       "      <th>Outlet_Location_Type_Tier 3</th>\n",
       "      <th>Outlet_Type_Grocery Store</th>\n",
       "      <th>Outlet_Type_Supermarket Type1</th>\n",
       "      <th>Outlet_Type_Supermarket Type2</th>\n",
       "      <th>Outlet_Type_Supermarket Type3</th>\n",
       "    </tr>\n",
       "  </thead>\n",
       "  <tbody>\n",
       "    <tr>\n",
       "      <th>0</th>\n",
       "      <td>9.30</td>\n",
       "      <td>0.016047</td>\n",
       "      <td>249.8092</td>\n",
       "      <td>1999</td>\n",
       "      <td>0</td>\n",
       "      <td>1</td>\n",
       "      <td>0</td>\n",
       "      <td>0</td>\n",
       "      <td>0</td>\n",
       "      <td>0</td>\n",
       "      <td>...</td>\n",
       "      <td>0</td>\n",
       "      <td>1</td>\n",
       "      <td>0</td>\n",
       "      <td>1</td>\n",
       "      <td>0</td>\n",
       "      <td>0</td>\n",
       "      <td>0</td>\n",
       "      <td>1</td>\n",
       "      <td>0</td>\n",
       "      <td>0</td>\n",
       "    </tr>\n",
       "    <tr>\n",
       "      <th>1</th>\n",
       "      <td>5.92</td>\n",
       "      <td>0.019278</td>\n",
       "      <td>48.2692</td>\n",
       "      <td>2009</td>\n",
       "      <td>0</td>\n",
       "      <td>0</td>\n",
       "      <td>1</td>\n",
       "      <td>0</td>\n",
       "      <td>0</td>\n",
       "      <td>0</td>\n",
       "      <td>...</td>\n",
       "      <td>0</td>\n",
       "      <td>1</td>\n",
       "      <td>0</td>\n",
       "      <td>0</td>\n",
       "      <td>0</td>\n",
       "      <td>1</td>\n",
       "      <td>0</td>\n",
       "      <td>0</td>\n",
       "      <td>1</td>\n",
       "      <td>0</td>\n",
       "    </tr>\n",
       "    <tr>\n",
       "      <th>2</th>\n",
       "      <td>17.50</td>\n",
       "      <td>0.016760</td>\n",
       "      <td>141.6180</td>\n",
       "      <td>1999</td>\n",
       "      <td>0</td>\n",
       "      <td>1</td>\n",
       "      <td>0</td>\n",
       "      <td>0</td>\n",
       "      <td>0</td>\n",
       "      <td>0</td>\n",
       "      <td>...</td>\n",
       "      <td>0</td>\n",
       "      <td>1</td>\n",
       "      <td>0</td>\n",
       "      <td>1</td>\n",
       "      <td>0</td>\n",
       "      <td>0</td>\n",
       "      <td>0</td>\n",
       "      <td>1</td>\n",
       "      <td>0</td>\n",
       "      <td>0</td>\n",
       "    </tr>\n",
       "    <tr>\n",
       "      <th>3</th>\n",
       "      <td>19.20</td>\n",
       "      <td>0.000000</td>\n",
       "      <td>182.0950</td>\n",
       "      <td>1998</td>\n",
       "      <td>0</td>\n",
       "      <td>0</td>\n",
       "      <td>1</td>\n",
       "      <td>0</td>\n",
       "      <td>0</td>\n",
       "      <td>0</td>\n",
       "      <td>...</td>\n",
       "      <td>0</td>\n",
       "      <td>1</td>\n",
       "      <td>0</td>\n",
       "      <td>0</td>\n",
       "      <td>0</td>\n",
       "      <td>1</td>\n",
       "      <td>1</td>\n",
       "      <td>0</td>\n",
       "      <td>0</td>\n",
       "      <td>0</td>\n",
       "    </tr>\n",
       "    <tr>\n",
       "      <th>4</th>\n",
       "      <td>8.93</td>\n",
       "      <td>0.000000</td>\n",
       "      <td>53.8614</td>\n",
       "      <td>1987</td>\n",
       "      <td>0</td>\n",
       "      <td>1</td>\n",
       "      <td>0</td>\n",
       "      <td>0</td>\n",
       "      <td>0</td>\n",
       "      <td>0</td>\n",
       "      <td>...</td>\n",
       "      <td>1</td>\n",
       "      <td>0</td>\n",
       "      <td>0</td>\n",
       "      <td>0</td>\n",
       "      <td>0</td>\n",
       "      <td>1</td>\n",
       "      <td>0</td>\n",
       "      <td>1</td>\n",
       "      <td>0</td>\n",
       "      <td>0</td>\n",
       "    </tr>\n",
       "  </tbody>\n",
       "</table>\n",
       "<p>5 rows × 35 columns</p>\n",
       "</div>"
      ],
      "text/plain": [
       "   Product_Weight  Product_Visibility  Product_MRP  Outlet_Establishment_Year  \\\n",
       "0            9.30            0.016047     249.8092                       1999   \n",
       "1            5.92            0.019278      48.2692                       2009   \n",
       "2           17.50            0.016760     141.6180                       1999   \n",
       "3           19.20            0.000000     182.0950                       1998   \n",
       "4            8.93            0.000000      53.8614                       1987   \n",
       "\n",
       "   Product_Fat_Content_LF  Product_Fat_Content_Low Fat  \\\n",
       "0                       0                            1   \n",
       "1                       0                            0   \n",
       "2                       0                            1   \n",
       "3                       0                            0   \n",
       "4                       0                            1   \n",
       "\n",
       "   Product_Fat_Content_Regular  Product_Fat_Content_low fat  \\\n",
       "0                            0                            0   \n",
       "1                            1                            0   \n",
       "2                            0                            0   \n",
       "3                            1                            0   \n",
       "4                            0                            0   \n",
       "\n",
       "   Product_Fat_Content_reg  Product_Type_Baking Goods  ...  Outlet_Size_High  \\\n",
       "0                        0                          0  ...                 0   \n",
       "1                        0                          0  ...                 0   \n",
       "2                        0                          0  ...                 0   \n",
       "3                        0                          0  ...                 0   \n",
       "4                        0                          0  ...                 1   \n",
       "\n",
       "   Outlet_Size_Medium  Outlet_Size_Small  Outlet_Location_Type_Tier 1  \\\n",
       "0                   1                  0                            1   \n",
       "1                   1                  0                            0   \n",
       "2                   1                  0                            1   \n",
       "3                   1                  0                            0   \n",
       "4                   0                  0                            0   \n",
       "\n",
       "   Outlet_Location_Type_Tier 2  Outlet_Location_Type_Tier 3  \\\n",
       "0                            0                            0   \n",
       "1                            0                            1   \n",
       "2                            0                            0   \n",
       "3                            0                            1   \n",
       "4                            0                            1   \n",
       "\n",
       "   Outlet_Type_Grocery Store  Outlet_Type_Supermarket Type1  \\\n",
       "0                          0                              1   \n",
       "1                          0                              0   \n",
       "2                          0                              1   \n",
       "3                          1                              0   \n",
       "4                          0                              1   \n",
       "\n",
       "   Outlet_Type_Supermarket Type2  Outlet_Type_Supermarket Type3  \n",
       "0                              0                              0  \n",
       "1                              1                              0  \n",
       "2                              0                              0  \n",
       "3                              0                              0  \n",
       "4                              0                              0  \n",
       "\n",
       "[5 rows x 35 columns]"
      ]
     },
     "execution_count": 15,
     "metadata": {},
     "output_type": "execute_result"
    }
   ],
   "source": [
    "X.head()"
   ]
  },
  {
   "cell_type": "code",
   "execution_count": 16,
   "metadata": {},
   "outputs": [],
   "source": [
    "from sklearn.model_selection import train_test_split"
   ]
  },
  {
   "cell_type": "code",
   "execution_count": 17,
   "metadata": {},
   "outputs": [],
   "source": [
    "X_train, X_test, y_train, y_test = train_test_split(X, y, test_size=0.2, random_state=42)"
   ]
  },
  {
   "cell_type": "code",
   "execution_count": 18,
   "metadata": {},
   "outputs": [],
   "source": [
    "from sklearn.preprocessing import StandardScaler\n"
   ]
  },
  {
   "cell_type": "code",
   "execution_count": 19,
   "metadata": {},
   "outputs": [],
   "source": [
    "from sklearn.preprocessing import StandardScaler\n",
    "sc = StandardScaler()\n",
    "X_train = sc.fit_transform(X_train)\n",
    "X_test = sc.transform(X_test)"
   ]
  },
  {
   "cell_type": "markdown",
   "metadata": {},
   "source": [
    "# Model 1 with all features"
   ]
  },
  {
   "cell_type": "code",
   "execution_count": 20,
   "metadata": {},
   "outputs": [],
   "source": [
    "from sklearn.neighbors import KNeighborsRegressor\n",
    "knn = KNeighborsRegressor(n_neighbors = 2)"
   ]
  },
  {
   "cell_type": "code",
   "execution_count": 21,
   "metadata": {},
   "outputs": [
    {
     "data": {
      "text/html": [
       "<style>#sk-container-id-1 {color: black;}#sk-container-id-1 pre{padding: 0;}#sk-container-id-1 div.sk-toggleable {background-color: white;}#sk-container-id-1 label.sk-toggleable__label {cursor: pointer;display: block;width: 100%;margin-bottom: 0;padding: 0.3em;box-sizing: border-box;text-align: center;}#sk-container-id-1 label.sk-toggleable__label-arrow:before {content: \"▸\";float: left;margin-right: 0.25em;color: #696969;}#sk-container-id-1 label.sk-toggleable__label-arrow:hover:before {color: black;}#sk-container-id-1 div.sk-estimator:hover label.sk-toggleable__label-arrow:before {color: black;}#sk-container-id-1 div.sk-toggleable__content {max-height: 0;max-width: 0;overflow: hidden;text-align: left;background-color: #f0f8ff;}#sk-container-id-1 div.sk-toggleable__content pre {margin: 0.2em;color: black;border-radius: 0.25em;background-color: #f0f8ff;}#sk-container-id-1 input.sk-toggleable__control:checked~div.sk-toggleable__content {max-height: 200px;max-width: 100%;overflow: auto;}#sk-container-id-1 input.sk-toggleable__control:checked~label.sk-toggleable__label-arrow:before {content: \"▾\";}#sk-container-id-1 div.sk-estimator input.sk-toggleable__control:checked~label.sk-toggleable__label {background-color: #d4ebff;}#sk-container-id-1 div.sk-label input.sk-toggleable__control:checked~label.sk-toggleable__label {background-color: #d4ebff;}#sk-container-id-1 input.sk-hidden--visually {border: 0;clip: rect(1px 1px 1px 1px);clip: rect(1px, 1px, 1px, 1px);height: 1px;margin: -1px;overflow: hidden;padding: 0;position: absolute;width: 1px;}#sk-container-id-1 div.sk-estimator {font-family: monospace;background-color: #f0f8ff;border: 1px dotted black;border-radius: 0.25em;box-sizing: border-box;margin-bottom: 0.5em;}#sk-container-id-1 div.sk-estimator:hover {background-color: #d4ebff;}#sk-container-id-1 div.sk-parallel-item::after {content: \"\";width: 100%;border-bottom: 1px solid gray;flex-grow: 1;}#sk-container-id-1 div.sk-label:hover label.sk-toggleable__label {background-color: #d4ebff;}#sk-container-id-1 div.sk-serial::before {content: \"\";position: absolute;border-left: 1px solid gray;box-sizing: border-box;top: 0;bottom: 0;left: 50%;z-index: 0;}#sk-container-id-1 div.sk-serial {display: flex;flex-direction: column;align-items: center;background-color: white;padding-right: 0.2em;padding-left: 0.2em;position: relative;}#sk-container-id-1 div.sk-item {position: relative;z-index: 1;}#sk-container-id-1 div.sk-parallel {display: flex;align-items: stretch;justify-content: center;background-color: white;position: relative;}#sk-container-id-1 div.sk-item::before, #sk-container-id-1 div.sk-parallel-item::before {content: \"\";position: absolute;border-left: 1px solid gray;box-sizing: border-box;top: 0;bottom: 0;left: 50%;z-index: -1;}#sk-container-id-1 div.sk-parallel-item {display: flex;flex-direction: column;z-index: 1;position: relative;background-color: white;}#sk-container-id-1 div.sk-parallel-item:first-child::after {align-self: flex-end;width: 50%;}#sk-container-id-1 div.sk-parallel-item:last-child::after {align-self: flex-start;width: 50%;}#sk-container-id-1 div.sk-parallel-item:only-child::after {width: 0;}#sk-container-id-1 div.sk-dashed-wrapped {border: 1px dashed gray;margin: 0 0.4em 0.5em 0.4em;box-sizing: border-box;padding-bottom: 0.4em;background-color: white;}#sk-container-id-1 div.sk-label label {font-family: monospace;font-weight: bold;display: inline-block;line-height: 1.2em;}#sk-container-id-1 div.sk-label-container {text-align: center;}#sk-container-id-1 div.sk-container {/* jupyter's `normalize.less` sets `[hidden] { display: none; }` but bootstrap.min.css set `[hidden] { display: none !important; }` so we also need the `!important` here to be able to override the default hidden behavior on the sphinx rendered scikit-learn.org. See: https://github.com/scikit-learn/scikit-learn/issues/21755 */display: inline-block !important;position: relative;}#sk-container-id-1 div.sk-text-repr-fallback {display: none;}</style><div id=\"sk-container-id-1\" class=\"sk-top-container\"><div class=\"sk-text-repr-fallback\"><pre>KNeighborsRegressor(n_neighbors=2)</pre><b>In a Jupyter environment, please rerun this cell to show the HTML representation or trust the notebook. <br />On GitHub, the HTML representation is unable to render, please try loading this page with nbviewer.org.</b></div><div class=\"sk-container\" hidden><div class=\"sk-item\"><div class=\"sk-estimator sk-toggleable\"><input class=\"sk-toggleable__control sk-hidden--visually\" id=\"sk-estimator-id-1\" type=\"checkbox\" checked><label for=\"sk-estimator-id-1\" class=\"sk-toggleable__label sk-toggleable__label-arrow\">KNeighborsRegressor</label><div class=\"sk-toggleable__content\"><pre>KNeighborsRegressor(n_neighbors=2)</pre></div></div></div></div></div>"
      ],
      "text/plain": [
       "KNeighborsRegressor(n_neighbors=2)"
      ]
     },
     "execution_count": 21,
     "metadata": {},
     "output_type": "execute_result"
    }
   ],
   "source": [
    "knn.fit(X_train,y_train)"
   ]
  },
  {
   "cell_type": "code",
   "execution_count": 22,
   "metadata": {},
   "outputs": [],
   "source": [
    "predictions = knn.predict(X_test)"
   ]
  },
  {
   "cell_type": "code",
   "execution_count": 23,
   "metadata": {},
   "outputs": [
    {
     "name": "stdout",
     "output_type": "stream",
     "text": [
      "MAE 939.1345251612903\n",
      "MSE 1768654.4481443567\n",
      "RMSE 1329.9076840684681\n"
     ]
    }
   ],
   "source": [
    "from sklearn import metrics\n",
    "\n",
    "print(\"MAE\", metrics.mean_absolute_error(y_test,predictions))\n",
    "print(\"MSE\", metrics.mean_squared_error(y_test,predictions)) \n",
    "print(\"RMSE\", np.sqrt(metrics.mean_squared_error(y_test,predictions)))"
   ]
  },
  {
   "cell_type": "code",
   "execution_count": 24,
   "metadata": {},
   "outputs": [],
   "source": [
    "from sklearn.model_selection import GridSearchCV\n",
    "param_grid = {'n_neighbors': list(range(1,29)), 'metric': [\"euclidean\", \"manhattan\"]}"
   ]
  },
  {
   "cell_type": "code",
   "execution_count": 25,
   "metadata": {},
   "outputs": [
    {
     "name": "stdout",
     "output_type": "stream",
     "text": [
      "Fitting 5 folds for each of 56 candidates, totalling 280 fits\n",
      "[CV 1/5] END ...metric=euclidean, n_neighbors=1;, score=0.109 total time=   0.0s\n",
      "[CV 2/5] END ...metric=euclidean, n_neighbors=1;, score=0.201 total time=   0.0s\n",
      "[CV 3/5] END ...metric=euclidean, n_neighbors=1;, score=0.134 total time=   0.0s\n",
      "[CV 4/5] END ...metric=euclidean, n_neighbors=1;, score=0.145 total time=   0.1s\n",
      "[CV 5/5] END ...metric=euclidean, n_neighbors=1;, score=0.123 total time=   0.1s\n",
      "[CV 1/5] END ...metric=euclidean, n_neighbors=2;, score=0.323 total time=   0.0s\n",
      "[CV 2/5] END ...metric=euclidean, n_neighbors=2;, score=0.326 total time=   0.0s\n",
      "[CV 3/5] END ...metric=euclidean, n_neighbors=2;, score=0.319 total time=   0.1s\n",
      "[CV 4/5] END ...metric=euclidean, n_neighbors=2;, score=0.326 total time=   0.1s\n",
      "[CV 5/5] END ...metric=euclidean, n_neighbors=2;, score=0.276 total time=   0.1s\n",
      "[CV 1/5] END ...metric=euclidean, n_neighbors=3;, score=0.392 total time=   0.1s\n",
      "[CV 2/5] END ...metric=euclidean, n_neighbors=3;, score=0.382 total time=   0.1s\n",
      "[CV 3/5] END ...metric=euclidean, n_neighbors=3;, score=0.404 total time=   0.1s\n",
      "[CV 4/5] END ...metric=euclidean, n_neighbors=3;, score=0.413 total time=   0.0s\n",
      "[CV 5/5] END ...metric=euclidean, n_neighbors=3;, score=0.355 total time=   0.0s\n",
      "[CV 1/5] END ...metric=euclidean, n_neighbors=4;, score=0.424 total time=   0.1s\n",
      "[CV 2/5] END ...metric=euclidean, n_neighbors=4;, score=0.420 total time=   0.1s\n",
      "[CV 3/5] END ...metric=euclidean, n_neighbors=4;, score=0.428 total time=   0.1s\n",
      "[CV 4/5] END ...metric=euclidean, n_neighbors=4;, score=0.448 total time=   0.1s\n",
      "[CV 5/5] END ...metric=euclidean, n_neighbors=4;, score=0.374 total time=   0.1s\n",
      "[CV 1/5] END ...metric=euclidean, n_neighbors=5;, score=0.442 total time=   0.1s\n",
      "[CV 2/5] END ...metric=euclidean, n_neighbors=5;, score=0.452 total time=   0.1s\n",
      "[CV 3/5] END ...metric=euclidean, n_neighbors=5;, score=0.435 total time=   0.1s\n",
      "[CV 4/5] END ...metric=euclidean, n_neighbors=5;, score=0.456 total time=   0.1s\n",
      "[CV 5/5] END ...metric=euclidean, n_neighbors=5;, score=0.389 total time=   0.1s\n",
      "[CV 1/5] END ...metric=euclidean, n_neighbors=6;, score=0.440 total time=   0.1s\n",
      "[CV 2/5] END ...metric=euclidean, n_neighbors=6;, score=0.457 total time=   0.1s\n",
      "[CV 3/5] END ...metric=euclidean, n_neighbors=6;, score=0.436 total time=   0.1s\n",
      "[CV 4/5] END ...metric=euclidean, n_neighbors=6;, score=0.456 total time=   0.1s\n",
      "[CV 5/5] END ...metric=euclidean, n_neighbors=6;, score=0.401 total time=   0.1s\n",
      "[CV 1/5] END ...metric=euclidean, n_neighbors=7;, score=0.447 total time=   0.1s\n",
      "[CV 2/5] END ...metric=euclidean, n_neighbors=7;, score=0.455 total time=   0.1s\n",
      "[CV 3/5] END ...metric=euclidean, n_neighbors=7;, score=0.438 total time=   0.2s\n",
      "[CV 4/5] END ...metric=euclidean, n_neighbors=7;, score=0.458 total time=   0.1s\n",
      "[CV 5/5] END ...metric=euclidean, n_neighbors=7;, score=0.402 total time=   0.1s\n",
      "[CV 1/5] END ...metric=euclidean, n_neighbors=8;, score=0.451 total time=   0.1s\n",
      "[CV 2/5] END ...metric=euclidean, n_neighbors=8;, score=0.454 total time=   0.1s\n",
      "[CV 3/5] END ...metric=euclidean, n_neighbors=8;, score=0.434 total time=   0.1s\n",
      "[CV 4/5] END ...metric=euclidean, n_neighbors=8;, score=0.460 total time=   0.1s\n",
      "[CV 5/5] END ...metric=euclidean, n_neighbors=8;, score=0.414 total time=   0.1s\n",
      "[CV 1/5] END ...metric=euclidean, n_neighbors=9;, score=0.451 total time=   0.1s\n",
      "[CV 2/5] END ...metric=euclidean, n_neighbors=9;, score=0.453 total time=   0.1s\n",
      "[CV 3/5] END ...metric=euclidean, n_neighbors=9;, score=0.432 total time=   0.1s\n",
      "[CV 4/5] END ...metric=euclidean, n_neighbors=9;, score=0.450 total time=   0.1s\n",
      "[CV 5/5] END ...metric=euclidean, n_neighbors=9;, score=0.413 total time=   0.1s\n",
      "[CV 1/5] END ..metric=euclidean, n_neighbors=10;, score=0.450 total time=   0.1s\n",
      "[CV 2/5] END ..metric=euclidean, n_neighbors=10;, score=0.447 total time=   0.2s\n",
      "[CV 3/5] END ..metric=euclidean, n_neighbors=10;, score=0.432 total time=   0.1s\n",
      "[CV 4/5] END ..metric=euclidean, n_neighbors=10;, score=0.441 total time=   0.1s\n",
      "[CV 5/5] END ..metric=euclidean, n_neighbors=10;, score=0.410 total time=   0.1s\n",
      "[CV 1/5] END ..metric=euclidean, n_neighbors=11;, score=0.446 total time=   0.1s\n",
      "[CV 2/5] END ..metric=euclidean, n_neighbors=11;, score=0.446 total time=   0.1s\n",
      "[CV 3/5] END ..metric=euclidean, n_neighbors=11;, score=0.433 total time=   0.1s\n",
      "[CV 4/5] END ..metric=euclidean, n_neighbors=11;, score=0.442 total time=   0.1s\n",
      "[CV 5/5] END ..metric=euclidean, n_neighbors=11;, score=0.409 total time=   0.1s\n",
      "[CV 1/5] END ..metric=euclidean, n_neighbors=12;, score=0.438 total time=   0.1s\n",
      "[CV 2/5] END ..metric=euclidean, n_neighbors=12;, score=0.439 total time=   0.1s\n",
      "[CV 3/5] END ..metric=euclidean, n_neighbors=12;, score=0.423 total time=   0.1s\n",
      "[CV 4/5] END ..metric=euclidean, n_neighbors=12;, score=0.436 total time=   0.1s\n",
      "[CV 5/5] END ..metric=euclidean, n_neighbors=12;, score=0.407 total time=   0.1s\n",
      "[CV 1/5] END ..metric=euclidean, n_neighbors=13;, score=0.431 total time=   0.1s\n",
      "[CV 2/5] END ..metric=euclidean, n_neighbors=13;, score=0.435 total time=   0.1s\n",
      "[CV 3/5] END ..metric=euclidean, n_neighbors=13;, score=0.425 total time=   0.3s\n",
      "[CV 4/5] END ..metric=euclidean, n_neighbors=13;, score=0.432 total time=   0.4s\n",
      "[CV 5/5] END ..metric=euclidean, n_neighbors=13;, score=0.406 total time=   0.3s\n",
      "[CV 1/5] END ..metric=euclidean, n_neighbors=14;, score=0.427 total time=   0.1s\n",
      "[CV 2/5] END ..metric=euclidean, n_neighbors=14;, score=0.432 total time=   0.2s\n",
      "[CV 3/5] END ..metric=euclidean, n_neighbors=14;, score=0.421 total time=   0.1s\n",
      "[CV 4/5] END ..metric=euclidean, n_neighbors=14;, score=0.430 total time=   0.1s\n",
      "[CV 5/5] END ..metric=euclidean, n_neighbors=14;, score=0.408 total time=   0.2s\n",
      "[CV 1/5] END ..metric=euclidean, n_neighbors=15;, score=0.426 total time=   0.1s\n",
      "[CV 2/5] END ..metric=euclidean, n_neighbors=15;, score=0.428 total time=   0.1s\n",
      "[CV 3/5] END ..metric=euclidean, n_neighbors=15;, score=0.417 total time=   0.1s\n",
      "[CV 4/5] END ..metric=euclidean, n_neighbors=15;, score=0.425 total time=   0.1s\n",
      "[CV 5/5] END ..metric=euclidean, n_neighbors=15;, score=0.404 total time=   0.1s\n",
      "[CV 1/5] END ..metric=euclidean, n_neighbors=16;, score=0.429 total time=   0.1s\n",
      "[CV 2/5] END ..metric=euclidean, n_neighbors=16;, score=0.423 total time=   0.1s\n",
      "[CV 3/5] END ..metric=euclidean, n_neighbors=16;, score=0.413 total time=   0.1s\n",
      "[CV 4/5] END ..metric=euclidean, n_neighbors=16;, score=0.420 total time=   0.1s\n",
      "[CV 5/5] END ..metric=euclidean, n_neighbors=16;, score=0.397 total time=   0.1s\n",
      "[CV 1/5] END ..metric=euclidean, n_neighbors=17;, score=0.427 total time=   0.1s\n",
      "[CV 2/5] END ..metric=euclidean, n_neighbors=17;, score=0.421 total time=   0.1s\n",
      "[CV 3/5] END ..metric=euclidean, n_neighbors=17;, score=0.414 total time=   0.1s\n",
      "[CV 4/5] END ..metric=euclidean, n_neighbors=17;, score=0.415 total time=   0.2s\n",
      "[CV 5/5] END ..metric=euclidean, n_neighbors=17;, score=0.395 total time=   0.1s\n",
      "[CV 1/5] END ..metric=euclidean, n_neighbors=18;, score=0.422 total time=   0.1s\n",
      "[CV 2/5] END ..metric=euclidean, n_neighbors=18;, score=0.421 total time=   0.1s\n",
      "[CV 3/5] END ..metric=euclidean, n_neighbors=18;, score=0.407 total time=   0.1s\n",
      "[CV 4/5] END ..metric=euclidean, n_neighbors=18;, score=0.413 total time=   0.1s\n",
      "[CV 5/5] END ..metric=euclidean, n_neighbors=18;, score=0.393 total time=   0.1s\n",
      "[CV 1/5] END ..metric=euclidean, n_neighbors=19;, score=0.418 total time=   0.1s\n",
      "[CV 2/5] END ..metric=euclidean, n_neighbors=19;, score=0.418 total time=   0.1s\n",
      "[CV 3/5] END ..metric=euclidean, n_neighbors=19;, score=0.402 total time=   0.1s\n",
      "[CV 4/5] END ..metric=euclidean, n_neighbors=19;, score=0.404 total time=   0.1s\n",
      "[CV 5/5] END ..metric=euclidean, n_neighbors=19;, score=0.389 total time=   0.1s\n",
      "[CV 1/5] END ..metric=euclidean, n_neighbors=20;, score=0.416 total time=   0.1s\n",
      "[CV 2/5] END ..metric=euclidean, n_neighbors=20;, score=0.412 total time=   0.1s\n",
      "[CV 3/5] END ..metric=euclidean, n_neighbors=20;, score=0.395 total time=   0.1s\n",
      "[CV 4/5] END ..metric=euclidean, n_neighbors=20;, score=0.398 total time=   0.1s\n",
      "[CV 5/5] END ..metric=euclidean, n_neighbors=20;, score=0.387 total time=   0.1s\n",
      "[CV 1/5] END ..metric=euclidean, n_neighbors=21;, score=0.412 total time=   0.2s\n"
     ]
    },
    {
     "name": "stdout",
     "output_type": "stream",
     "text": [
      "[CV 2/5] END ..metric=euclidean, n_neighbors=21;, score=0.408 total time=   0.1s\n",
      "[CV 3/5] END ..metric=euclidean, n_neighbors=21;, score=0.391 total time=   0.1s\n",
      "[CV 4/5] END ..metric=euclidean, n_neighbors=21;, score=0.392 total time=   0.1s\n",
      "[CV 5/5] END ..metric=euclidean, n_neighbors=21;, score=0.384 total time=   0.1s\n",
      "[CV 1/5] END ..metric=euclidean, n_neighbors=22;, score=0.408 total time=   0.1s\n",
      "[CV 2/5] END ..metric=euclidean, n_neighbors=22;, score=0.403 total time=   0.1s\n",
      "[CV 3/5] END ..metric=euclidean, n_neighbors=22;, score=0.390 total time=   0.1s\n",
      "[CV 4/5] END ..metric=euclidean, n_neighbors=22;, score=0.386 total time=   0.1s\n",
      "[CV 5/5] END ..metric=euclidean, n_neighbors=22;, score=0.381 total time=   0.1s\n",
      "[CV 1/5] END ..metric=euclidean, n_neighbors=23;, score=0.403 total time=   0.1s\n",
      "[CV 2/5] END ..metric=euclidean, n_neighbors=23;, score=0.396 total time=   0.1s\n",
      "[CV 3/5] END ..metric=euclidean, n_neighbors=23;, score=0.386 total time=   0.1s\n",
      "[CV 4/5] END ..metric=euclidean, n_neighbors=23;, score=0.382 total time=   0.1s\n",
      "[CV 5/5] END ..metric=euclidean, n_neighbors=23;, score=0.379 total time=   0.1s\n",
      "[CV 1/5] END ..metric=euclidean, n_neighbors=24;, score=0.399 total time=   0.1s\n",
      "[CV 2/5] END ..metric=euclidean, n_neighbors=24;, score=0.392 total time=   0.1s\n",
      "[CV 3/5] END ..metric=euclidean, n_neighbors=24;, score=0.381 total time=   0.1s\n",
      "[CV 4/5] END ..metric=euclidean, n_neighbors=24;, score=0.377 total time=   0.1s\n",
      "[CV 5/5] END ..metric=euclidean, n_neighbors=24;, score=0.378 total time=   0.1s\n",
      "[CV 1/5] END ..metric=euclidean, n_neighbors=25;, score=0.395 total time=   0.1s\n",
      "[CV 2/5] END ..metric=euclidean, n_neighbors=25;, score=0.385 total time=   0.1s\n",
      "[CV 3/5] END ..metric=euclidean, n_neighbors=25;, score=0.376 total time=   0.1s\n",
      "[CV 4/5] END ..metric=euclidean, n_neighbors=25;, score=0.373 total time=   0.1s\n",
      "[CV 5/5] END ..metric=euclidean, n_neighbors=25;, score=0.376 total time=   0.1s\n",
      "[CV 1/5] END ..metric=euclidean, n_neighbors=26;, score=0.391 total time=   0.1s\n",
      "[CV 2/5] END ..metric=euclidean, n_neighbors=26;, score=0.378 total time=   0.1s\n",
      "[CV 3/5] END ..metric=euclidean, n_neighbors=26;, score=0.373 total time=   0.1s\n",
      "[CV 4/5] END ..metric=euclidean, n_neighbors=26;, score=0.369 total time=   0.1s\n",
      "[CV 5/5] END ..metric=euclidean, n_neighbors=26;, score=0.373 total time=   0.1s\n",
      "[CV 1/5] END ..metric=euclidean, n_neighbors=27;, score=0.389 total time=   0.1s\n",
      "[CV 2/5] END ..metric=euclidean, n_neighbors=27;, score=0.376 total time=   0.1s\n",
      "[CV 3/5] END ..metric=euclidean, n_neighbors=27;, score=0.373 total time=   0.1s\n",
      "[CV 4/5] END ..metric=euclidean, n_neighbors=27;, score=0.364 total time=   0.1s\n",
      "[CV 5/5] END ..metric=euclidean, n_neighbors=27;, score=0.371 total time=   0.1s\n",
      "[CV 1/5] END ..metric=euclidean, n_neighbors=28;, score=0.388 total time=   0.1s\n",
      "[CV 2/5] END ..metric=euclidean, n_neighbors=28;, score=0.371 total time=   0.1s\n",
      "[CV 3/5] END ..metric=euclidean, n_neighbors=28;, score=0.369 total time=   0.1s\n",
      "[CV 4/5] END ..metric=euclidean, n_neighbors=28;, score=0.359 total time=   0.1s\n",
      "[CV 5/5] END ..metric=euclidean, n_neighbors=28;, score=0.371 total time=   0.1s\n",
      "[CV 1/5] END ...metric=manhattan, n_neighbors=1;, score=0.073 total time=   0.2s\n",
      "[CV 2/5] END ...metric=manhattan, n_neighbors=1;, score=0.204 total time=   0.2s\n",
      "[CV 3/5] END ...metric=manhattan, n_neighbors=1;, score=0.128 total time=   0.2s\n",
      "[CV 4/5] END ...metric=manhattan, n_neighbors=1;, score=0.132 total time=   0.2s\n",
      "[CV 5/5] END ...metric=manhattan, n_neighbors=1;, score=0.136 total time=   0.2s\n",
      "[CV 1/5] END ...metric=manhattan, n_neighbors=2;, score=0.304 total time=   0.2s\n",
      "[CV 2/5] END ...metric=manhattan, n_neighbors=2;, score=0.334 total time=   0.3s\n",
      "[CV 3/5] END ...metric=manhattan, n_neighbors=2;, score=0.324 total time=   0.2s\n",
      "[CV 4/5] END ...metric=manhattan, n_neighbors=2;, score=0.370 total time=   0.2s\n",
      "[CV 5/5] END ...metric=manhattan, n_neighbors=2;, score=0.281 total time=   0.3s\n",
      "[CV 1/5] END ...metric=manhattan, n_neighbors=3;, score=0.378 total time=   0.2s\n",
      "[CV 2/5] END ...metric=manhattan, n_neighbors=3;, score=0.383 total time=   0.2s\n",
      "[CV 3/5] END ...metric=manhattan, n_neighbors=3;, score=0.408 total time=   0.2s\n",
      "[CV 4/5] END ...metric=manhattan, n_neighbors=3;, score=0.413 total time=   0.2s\n",
      "[CV 5/5] END ...metric=manhattan, n_neighbors=3;, score=0.350 total time=   0.3s\n",
      "[CV 1/5] END ...metric=manhattan, n_neighbors=4;, score=0.420 total time=   0.3s\n",
      "[CV 2/5] END ...metric=manhattan, n_neighbors=4;, score=0.425 total time=   0.3s\n",
      "[CV 3/5] END ...metric=manhattan, n_neighbors=4;, score=0.432 total time=   0.3s\n",
      "[CV 4/5] END ...metric=manhattan, n_neighbors=4;, score=0.445 total time=   0.2s\n",
      "[CV 5/5] END ...metric=manhattan, n_neighbors=4;, score=0.373 total time=   0.2s\n",
      "[CV 1/5] END ...metric=manhattan, n_neighbors=5;, score=0.441 total time=   0.3s\n",
      "[CV 2/5] END ...metric=manhattan, n_neighbors=5;, score=0.433 total time=   0.3s\n",
      "[CV 3/5] END ...metric=manhattan, n_neighbors=5;, score=0.446 total time=   0.4s\n",
      "[CV 4/5] END ...metric=manhattan, n_neighbors=5;, score=0.449 total time=   0.3s\n",
      "[CV 5/5] END ...metric=manhattan, n_neighbors=5;, score=0.393 total time=   0.2s\n",
      "[CV 1/5] END ...metric=manhattan, n_neighbors=6;, score=0.454 total time=   0.4s\n",
      "[CV 2/5] END ...metric=manhattan, n_neighbors=6;, score=0.439 total time=   0.3s\n",
      "[CV 3/5] END ...metric=manhattan, n_neighbors=6;, score=0.449 total time=   0.2s\n",
      "[CV 4/5] END ...metric=manhattan, n_neighbors=6;, score=0.448 total time=   0.3s\n",
      "[CV 5/5] END ...metric=manhattan, n_neighbors=6;, score=0.411 total time=   0.2s\n",
      "[CV 1/5] END ...metric=manhattan, n_neighbors=7;, score=0.456 total time=   0.3s\n",
      "[CV 2/5] END ...metric=manhattan, n_neighbors=7;, score=0.453 total time=   0.3s\n",
      "[CV 3/5] END ...metric=manhattan, n_neighbors=7;, score=0.445 total time=   0.3s\n",
      "[CV 4/5] END ...metric=manhattan, n_neighbors=7;, score=0.453 total time=   0.4s\n",
      "[CV 5/5] END ...metric=manhattan, n_neighbors=7;, score=0.415 total time=   0.3s\n",
      "[CV 1/5] END ...metric=manhattan, n_neighbors=8;, score=0.454 total time=   0.3s\n",
      "[CV 2/5] END ...metric=manhattan, n_neighbors=8;, score=0.453 total time=   0.2s\n",
      "[CV 3/5] END ...metric=manhattan, n_neighbors=8;, score=0.451 total time=   0.4s\n",
      "[CV 4/5] END ...metric=manhattan, n_neighbors=8;, score=0.452 total time=   0.4s\n",
      "[CV 5/5] END ...metric=manhattan, n_neighbors=8;, score=0.416 total time=   0.4s\n",
      "[CV 1/5] END ...metric=manhattan, n_neighbors=9;, score=0.454 total time=   0.4s\n",
      "[CV 2/5] END ...metric=manhattan, n_neighbors=9;, score=0.454 total time=   0.5s\n",
      "[CV 3/5] END ...metric=manhattan, n_neighbors=9;, score=0.451 total time=   0.3s\n",
      "[CV 4/5] END ...metric=manhattan, n_neighbors=9;, score=0.449 total time=   0.3s\n",
      "[CV 5/5] END ...metric=manhattan, n_neighbors=9;, score=0.416 total time=   0.4s\n",
      "[CV 1/5] END ..metric=manhattan, n_neighbors=10;, score=0.455 total time=   0.4s\n",
      "[CV 2/5] END ..metric=manhattan, n_neighbors=10;, score=0.455 total time=   0.3s\n",
      "[CV 3/5] END ..metric=manhattan, n_neighbors=10;, score=0.454 total time=   0.4s\n",
      "[CV 4/5] END ..metric=manhattan, n_neighbors=10;, score=0.446 total time=   0.3s\n",
      "[CV 5/5] END ..metric=manhattan, n_neighbors=10;, score=0.414 total time=   0.3s\n",
      "[CV 1/5] END ..metric=manhattan, n_neighbors=11;, score=0.447 total time=   0.3s\n",
      "[CV 2/5] END ..metric=manhattan, n_neighbors=11;, score=0.447 total time=   0.2s\n",
      "[CV 3/5] END ..metric=manhattan, n_neighbors=11;, score=0.449 total time=   0.3s\n",
      "[CV 4/5] END ..metric=manhattan, n_neighbors=11;, score=0.444 total time=   0.3s\n",
      "[CV 5/5] END ..metric=manhattan, n_neighbors=11;, score=0.414 total time=   0.2s\n",
      "[CV 1/5] END ..metric=manhattan, n_neighbors=12;, score=0.437 total time=   0.3s\n",
      "[CV 2/5] END ..metric=manhattan, n_neighbors=12;, score=0.434 total time=   0.3s\n",
      "[CV 3/5] END ..metric=manhattan, n_neighbors=12;, score=0.444 total time=   0.3s\n",
      "[CV 4/5] END ..metric=manhattan, n_neighbors=12;, score=0.438 total time=   0.3s\n",
      "[CV 5/5] END ..metric=manhattan, n_neighbors=12;, score=0.417 total time=   0.3s\n",
      "[CV 1/5] END ..metric=manhattan, n_neighbors=13;, score=0.432 total time=   0.3s\n",
      "[CV 2/5] END ..metric=manhattan, n_neighbors=13;, score=0.429 total time=   0.3s\n",
      "[CV 3/5] END ..metric=manhattan, n_neighbors=13;, score=0.436 total time=   0.3s\n"
     ]
    },
    {
     "name": "stdout",
     "output_type": "stream",
     "text": [
      "[CV 4/5] END ..metric=manhattan, n_neighbors=13;, score=0.439 total time=   0.3s\n",
      "[CV 5/5] END ..metric=manhattan, n_neighbors=13;, score=0.419 total time=   0.3s\n",
      "[CV 1/5] END ..metric=manhattan, n_neighbors=14;, score=0.432 total time=   0.3s\n",
      "[CV 2/5] END ..metric=manhattan, n_neighbors=14;, score=0.427 total time=   0.3s\n",
      "[CV 3/5] END ..metric=manhattan, n_neighbors=14;, score=0.429 total time=   0.3s\n",
      "[CV 4/5] END ..metric=manhattan, n_neighbors=14;, score=0.432 total time=   0.4s\n",
      "[CV 5/5] END ..metric=manhattan, n_neighbors=14;, score=0.416 total time=   0.3s\n",
      "[CV 1/5] END ..metric=manhattan, n_neighbors=15;, score=0.427 total time=   0.3s\n",
      "[CV 2/5] END ..metric=manhattan, n_neighbors=15;, score=0.433 total time=   0.3s\n",
      "[CV 3/5] END ..metric=manhattan, n_neighbors=15;, score=0.425 total time=   0.3s\n",
      "[CV 4/5] END ..metric=manhattan, n_neighbors=15;, score=0.431 total time=   0.3s\n",
      "[CV 5/5] END ..metric=manhattan, n_neighbors=15;, score=0.415 total time=   0.2s\n",
      "[CV 1/5] END ..metric=manhattan, n_neighbors=16;, score=0.426 total time=   0.3s\n",
      "[CV 2/5] END ..metric=manhattan, n_neighbors=16;, score=0.426 total time=   0.3s\n",
      "[CV 3/5] END ..metric=manhattan, n_neighbors=16;, score=0.419 total time=   0.3s\n",
      "[CV 4/5] END ..metric=manhattan, n_neighbors=16;, score=0.426 total time=   0.3s\n",
      "[CV 5/5] END ..metric=manhattan, n_neighbors=16;, score=0.409 total time=   0.3s\n",
      "[CV 1/5] END ..metric=manhattan, n_neighbors=17;, score=0.423 total time=   0.3s\n",
      "[CV 2/5] END ..metric=manhattan, n_neighbors=17;, score=0.420 total time=   0.3s\n",
      "[CV 3/5] END ..metric=manhattan, n_neighbors=17;, score=0.410 total time=   0.3s\n",
      "[CV 4/5] END ..metric=manhattan, n_neighbors=17;, score=0.423 total time=   0.4s\n",
      "[CV 5/5] END ..metric=manhattan, n_neighbors=17;, score=0.405 total time=   0.3s\n",
      "[CV 1/5] END ..metric=manhattan, n_neighbors=18;, score=0.415 total time=   0.3s\n",
      "[CV 2/5] END ..metric=manhattan, n_neighbors=18;, score=0.416 total time=   0.2s\n",
      "[CV 3/5] END ..metric=manhattan, n_neighbors=18;, score=0.404 total time=   0.2s\n",
      "[CV 4/5] END ..metric=manhattan, n_neighbors=18;, score=0.415 total time=   0.2s\n",
      "[CV 5/5] END ..metric=manhattan, n_neighbors=18;, score=0.402 total time=   0.2s\n",
      "[CV 1/5] END ..metric=manhattan, n_neighbors=19;, score=0.408 total time=   0.3s\n",
      "[CV 2/5] END ..metric=manhattan, n_neighbors=19;, score=0.412 total time=   0.3s\n",
      "[CV 3/5] END ..metric=manhattan, n_neighbors=19;, score=0.397 total time=   0.2s\n",
      "[CV 4/5] END ..metric=manhattan, n_neighbors=19;, score=0.411 total time=   0.2s\n",
      "[CV 5/5] END ..metric=manhattan, n_neighbors=19;, score=0.396 total time=   0.3s\n",
      "[CV 1/5] END ..metric=manhattan, n_neighbors=20;, score=0.405 total time=   0.3s\n",
      "[CV 2/5] END ..metric=manhattan, n_neighbors=20;, score=0.406 total time=   0.3s\n",
      "[CV 3/5] END ..metric=manhattan, n_neighbors=20;, score=0.396 total time=   0.3s\n",
      "[CV 4/5] END ..metric=manhattan, n_neighbors=20;, score=0.409 total time=   0.3s\n",
      "[CV 5/5] END ..metric=manhattan, n_neighbors=20;, score=0.393 total time=   0.3s\n",
      "[CV 1/5] END ..metric=manhattan, n_neighbors=21;, score=0.399 total time=   0.3s\n",
      "[CV 2/5] END ..metric=manhattan, n_neighbors=21;, score=0.401 total time=   0.2s\n",
      "[CV 3/5] END ..metric=manhattan, n_neighbors=21;, score=0.393 total time=   0.3s\n",
      "[CV 4/5] END ..metric=manhattan, n_neighbors=21;, score=0.404 total time=   0.2s\n",
      "[CV 5/5] END ..metric=manhattan, n_neighbors=21;, score=0.391 total time=   0.3s\n",
      "[CV 1/5] END ..metric=manhattan, n_neighbors=22;, score=0.396 total time=   0.3s\n",
      "[CV 2/5] END ..metric=manhattan, n_neighbors=22;, score=0.398 total time=   0.3s\n",
      "[CV 3/5] END ..metric=manhattan, n_neighbors=22;, score=0.390 total time=   0.3s\n",
      "[CV 4/5] END ..metric=manhattan, n_neighbors=22;, score=0.401 total time=   0.2s\n",
      "[CV 5/5] END ..metric=manhattan, n_neighbors=22;, score=0.390 total time=   0.3s\n",
      "[CV 1/5] END ..metric=manhattan, n_neighbors=23;, score=0.395 total time=   0.3s\n",
      "[CV 2/5] END ..metric=manhattan, n_neighbors=23;, score=0.395 total time=   0.2s\n",
      "[CV 3/5] END ..metric=manhattan, n_neighbors=23;, score=0.388 total time=   0.3s\n",
      "[CV 4/5] END ..metric=manhattan, n_neighbors=23;, score=0.398 total time=   0.3s\n",
      "[CV 5/5] END ..metric=manhattan, n_neighbors=23;, score=0.386 total time=   0.3s\n",
      "[CV 1/5] END ..metric=manhattan, n_neighbors=24;, score=0.392 total time=   0.3s\n",
      "[CV 2/5] END ..metric=manhattan, n_neighbors=24;, score=0.391 total time=   0.3s\n",
      "[CV 3/5] END ..metric=manhattan, n_neighbors=24;, score=0.385 total time=   0.3s\n",
      "[CV 4/5] END ..metric=manhattan, n_neighbors=24;, score=0.393 total time=   0.3s\n",
      "[CV 5/5] END ..metric=manhattan, n_neighbors=24;, score=0.383 total time=   0.3s\n",
      "[CV 1/5] END ..metric=manhattan, n_neighbors=25;, score=0.392 total time=   0.3s\n",
      "[CV 2/5] END ..metric=manhattan, n_neighbors=25;, score=0.386 total time=   0.4s\n",
      "[CV 3/5] END ..metric=manhattan, n_neighbors=25;, score=0.380 total time=   0.4s\n",
      "[CV 4/5] END ..metric=manhattan, n_neighbors=25;, score=0.390 total time=   0.3s\n",
      "[CV 5/5] END ..metric=manhattan, n_neighbors=25;, score=0.379 total time=   0.3s\n",
      "[CV 1/5] END ..metric=manhattan, n_neighbors=26;, score=0.390 total time=   0.4s\n",
      "[CV 2/5] END ..metric=manhattan, n_neighbors=26;, score=0.385 total time=   0.4s\n",
      "[CV 3/5] END ..metric=manhattan, n_neighbors=26;, score=0.379 total time=   0.3s\n",
      "[CV 4/5] END ..metric=manhattan, n_neighbors=26;, score=0.384 total time=   0.4s\n",
      "[CV 5/5] END ..metric=manhattan, n_neighbors=26;, score=0.379 total time=   0.3s\n",
      "[CV 1/5] END ..metric=manhattan, n_neighbors=27;, score=0.386 total time=   0.3s\n",
      "[CV 2/5] END ..metric=manhattan, n_neighbors=27;, score=0.384 total time=   0.3s\n",
      "[CV 3/5] END ..metric=manhattan, n_neighbors=27;, score=0.376 total time=   0.3s\n",
      "[CV 4/5] END ..metric=manhattan, n_neighbors=27;, score=0.381 total time=   0.4s\n",
      "[CV 5/5] END ..metric=manhattan, n_neighbors=27;, score=0.379 total time=   0.3s\n",
      "[CV 1/5] END ..metric=manhattan, n_neighbors=28;, score=0.382 total time=   0.3s\n",
      "[CV 2/5] END ..metric=manhattan, n_neighbors=28;, score=0.381 total time=   0.4s\n",
      "[CV 3/5] END ..metric=manhattan, n_neighbors=28;, score=0.376 total time=   0.3s\n",
      "[CV 4/5] END ..metric=manhattan, n_neighbors=28;, score=0.378 total time=   0.3s\n",
      "[CV 5/5] END ..metric=manhattan, n_neighbors=28;, score=0.380 total time=   0.4s\n"
     ]
    },
    {
     "data": {
      "text/html": [
       "<style>#sk-container-id-2 {color: black;}#sk-container-id-2 pre{padding: 0;}#sk-container-id-2 div.sk-toggleable {background-color: white;}#sk-container-id-2 label.sk-toggleable__label {cursor: pointer;display: block;width: 100%;margin-bottom: 0;padding: 0.3em;box-sizing: border-box;text-align: center;}#sk-container-id-2 label.sk-toggleable__label-arrow:before {content: \"▸\";float: left;margin-right: 0.25em;color: #696969;}#sk-container-id-2 label.sk-toggleable__label-arrow:hover:before {color: black;}#sk-container-id-2 div.sk-estimator:hover label.sk-toggleable__label-arrow:before {color: black;}#sk-container-id-2 div.sk-toggleable__content {max-height: 0;max-width: 0;overflow: hidden;text-align: left;background-color: #f0f8ff;}#sk-container-id-2 div.sk-toggleable__content pre {margin: 0.2em;color: black;border-radius: 0.25em;background-color: #f0f8ff;}#sk-container-id-2 input.sk-toggleable__control:checked~div.sk-toggleable__content {max-height: 200px;max-width: 100%;overflow: auto;}#sk-container-id-2 input.sk-toggleable__control:checked~label.sk-toggleable__label-arrow:before {content: \"▾\";}#sk-container-id-2 div.sk-estimator input.sk-toggleable__control:checked~label.sk-toggleable__label {background-color: #d4ebff;}#sk-container-id-2 div.sk-label input.sk-toggleable__control:checked~label.sk-toggleable__label {background-color: #d4ebff;}#sk-container-id-2 input.sk-hidden--visually {border: 0;clip: rect(1px 1px 1px 1px);clip: rect(1px, 1px, 1px, 1px);height: 1px;margin: -1px;overflow: hidden;padding: 0;position: absolute;width: 1px;}#sk-container-id-2 div.sk-estimator {font-family: monospace;background-color: #f0f8ff;border: 1px dotted black;border-radius: 0.25em;box-sizing: border-box;margin-bottom: 0.5em;}#sk-container-id-2 div.sk-estimator:hover {background-color: #d4ebff;}#sk-container-id-2 div.sk-parallel-item::after {content: \"\";width: 100%;border-bottom: 1px solid gray;flex-grow: 1;}#sk-container-id-2 div.sk-label:hover label.sk-toggleable__label {background-color: #d4ebff;}#sk-container-id-2 div.sk-serial::before {content: \"\";position: absolute;border-left: 1px solid gray;box-sizing: border-box;top: 0;bottom: 0;left: 50%;z-index: 0;}#sk-container-id-2 div.sk-serial {display: flex;flex-direction: column;align-items: center;background-color: white;padding-right: 0.2em;padding-left: 0.2em;position: relative;}#sk-container-id-2 div.sk-item {position: relative;z-index: 1;}#sk-container-id-2 div.sk-parallel {display: flex;align-items: stretch;justify-content: center;background-color: white;position: relative;}#sk-container-id-2 div.sk-item::before, #sk-container-id-2 div.sk-parallel-item::before {content: \"\";position: absolute;border-left: 1px solid gray;box-sizing: border-box;top: 0;bottom: 0;left: 50%;z-index: -1;}#sk-container-id-2 div.sk-parallel-item {display: flex;flex-direction: column;z-index: 1;position: relative;background-color: white;}#sk-container-id-2 div.sk-parallel-item:first-child::after {align-self: flex-end;width: 50%;}#sk-container-id-2 div.sk-parallel-item:last-child::after {align-self: flex-start;width: 50%;}#sk-container-id-2 div.sk-parallel-item:only-child::after {width: 0;}#sk-container-id-2 div.sk-dashed-wrapped {border: 1px dashed gray;margin: 0 0.4em 0.5em 0.4em;box-sizing: border-box;padding-bottom: 0.4em;background-color: white;}#sk-container-id-2 div.sk-label label {font-family: monospace;font-weight: bold;display: inline-block;line-height: 1.2em;}#sk-container-id-2 div.sk-label-container {text-align: center;}#sk-container-id-2 div.sk-container {/* jupyter's `normalize.less` sets `[hidden] { display: none; }` but bootstrap.min.css set `[hidden] { display: none !important; }` so we also need the `!important` here to be able to override the default hidden behavior on the sphinx rendered scikit-learn.org. See: https://github.com/scikit-learn/scikit-learn/issues/21755 */display: inline-block !important;position: relative;}#sk-container-id-2 div.sk-text-repr-fallback {display: none;}</style><div id=\"sk-container-id-2\" class=\"sk-top-container\"><div class=\"sk-text-repr-fallback\"><pre>GridSearchCV(estimator=KNeighborsRegressor(),\n",
       "             param_grid={&#x27;metric&#x27;: [&#x27;euclidean&#x27;, &#x27;manhattan&#x27;],\n",
       "                         &#x27;n_neighbors&#x27;: [1, 2, 3, 4, 5, 6, 7, 8, 9, 10, 11, 12,\n",
       "                                         13, 14, 15, 16, 17, 18, 19, 20, 21, 22,\n",
       "                                         23, 24, 25, 26, 27, 28]},\n",
       "             verbose=3)</pre><b>In a Jupyter environment, please rerun this cell to show the HTML representation or trust the notebook. <br />On GitHub, the HTML representation is unable to render, please try loading this page with nbviewer.org.</b></div><div class=\"sk-container\" hidden><div class=\"sk-item sk-dashed-wrapped\"><div class=\"sk-label-container\"><div class=\"sk-label sk-toggleable\"><input class=\"sk-toggleable__control sk-hidden--visually\" id=\"sk-estimator-id-2\" type=\"checkbox\" ><label for=\"sk-estimator-id-2\" class=\"sk-toggleable__label sk-toggleable__label-arrow\">GridSearchCV</label><div class=\"sk-toggleable__content\"><pre>GridSearchCV(estimator=KNeighborsRegressor(),\n",
       "             param_grid={&#x27;metric&#x27;: [&#x27;euclidean&#x27;, &#x27;manhattan&#x27;],\n",
       "                         &#x27;n_neighbors&#x27;: [1, 2, 3, 4, 5, 6, 7, 8, 9, 10, 11, 12,\n",
       "                                         13, 14, 15, 16, 17, 18, 19, 20, 21, 22,\n",
       "                                         23, 24, 25, 26, 27, 28]},\n",
       "             verbose=3)</pre></div></div></div><div class=\"sk-parallel\"><div class=\"sk-parallel-item\"><div class=\"sk-item\"><div class=\"sk-label-container\"><div class=\"sk-label sk-toggleable\"><input class=\"sk-toggleable__control sk-hidden--visually\" id=\"sk-estimator-id-3\" type=\"checkbox\" ><label for=\"sk-estimator-id-3\" class=\"sk-toggleable__label sk-toggleable__label-arrow\">estimator: KNeighborsRegressor</label><div class=\"sk-toggleable__content\"><pre>KNeighborsRegressor()</pre></div></div></div><div class=\"sk-serial\"><div class=\"sk-item\"><div class=\"sk-estimator sk-toggleable\"><input class=\"sk-toggleable__control sk-hidden--visually\" id=\"sk-estimator-id-4\" type=\"checkbox\" ><label for=\"sk-estimator-id-4\" class=\"sk-toggleable__label sk-toggleable__label-arrow\">KNeighborsRegressor</label><div class=\"sk-toggleable__content\"><pre>KNeighborsRegressor()</pre></div></div></div></div></div></div></div></div></div></div>"
      ],
      "text/plain": [
       "GridSearchCV(estimator=KNeighborsRegressor(),\n",
       "             param_grid={'metric': ['euclidean', 'manhattan'],\n",
       "                         'n_neighbors': [1, 2, 3, 4, 5, 6, 7, 8, 9, 10, 11, 12,\n",
       "                                         13, 14, 15, 16, 17, 18, 19, 20, 21, 22,\n",
       "                                         23, 24, 25, 26, 27, 28]},\n",
       "             verbose=3)"
      ]
     },
     "execution_count": 25,
     "metadata": {},
     "output_type": "execute_result"
    }
   ],
   "source": [
    "grid = GridSearchCV(KNeighborsRegressor(), param_grid, verbose =3)\n",
    "grid.fit(X_train,y_train)"
   ]
  },
  {
   "cell_type": "code",
   "execution_count": 26,
   "metadata": {},
   "outputs": [
    {
     "data": {
      "text/plain": [
       "{'metric': 'manhattan', 'n_neighbors': 8}"
      ]
     },
     "execution_count": 26,
     "metadata": {},
     "output_type": "execute_result"
    }
   ],
   "source": [
    "grid.best_params_"
   ]
  },
  {
   "cell_type": "code",
   "execution_count": 27,
   "metadata": {},
   "outputs": [],
   "source": [
    "grid_predictions = grid.best_estimator_.predict(X_test)"
   ]
  },
  {
   "cell_type": "code",
   "execution_count": 28,
   "metadata": {},
   "outputs": [
    {
     "name": "stdout",
     "output_type": "stream",
     "text": [
      "MAE 868.984636378299\n",
      "MSE 1422448.9611783114\n",
      "RMSE 1192.664647408613\n"
     ]
    }
   ],
   "source": [
    "print(\"MAE\", metrics.mean_absolute_error(y_test,grid_predictions))\n",
    "print(\"MSE\", metrics.mean_squared_error(y_test,grid_predictions)) \n",
    "print(\"RMSE\", np.sqrt(metrics.mean_squared_error(y_test,grid_predictions)))"
   ]
  },
  {
   "cell_type": "markdown",
   "metadata": {},
   "source": [
    "### Model 2 with the lowest possible number of features that still explains (99% to 100%) of variance"
   ]
  },
  {
   "cell_type": "code",
   "execution_count": 29,
   "metadata": {},
   "outputs": [],
   "source": [
    "from sklearn.decomposition import PCA"
   ]
  },
  {
   "cell_type": "code",
   "execution_count": 30,
   "metadata": {},
   "outputs": [],
   "source": [
    "pca = PCA(n_components = None)\n",
    "X_train_pca = pca.fit_transform(X_train)\n",
    "X_test_pca = pca.transform(X_test)\n",
    "explained_variance = pca.explained_variance_ratio_"
   ]
  },
  {
   "cell_type": "code",
   "execution_count": 31,
   "metadata": {},
   "outputs": [
    {
     "data": {
      "text/plain": [
       "array([9.40220561e-02, 7.43636824e-02, 6.28317730e-02, 5.32897640e-02,\n",
       "       3.95076295e-02, 3.43169273e-02, 3.35934272e-02, 3.34195795e-02,\n",
       "       3.25040998e-02, 3.22045891e-02, 3.16007052e-02, 3.14204074e-02,\n",
       "       3.11749933e-02, 3.07650395e-02, 3.06106502e-02, 3.00694972e-02,\n",
       "       2.99158930e-02, 2.95113791e-02, 2.93556737e-02, 2.88746976e-02,\n",
       "       2.86898330e-02, 2.84069843e-02, 2.79414453e-02, 2.63430450e-02,\n",
       "       2.54829987e-02, 2.51882212e-02, 2.10345841e-02, 2.01212432e-02,\n",
       "       3.22009736e-03, 2.19083778e-04, 1.85425811e-32, 1.66785408e-33,\n",
       "       1.39046051e-33, 1.00025835e-33, 7.13652553e-34])"
      ]
     },
     "execution_count": 31,
     "metadata": {},
     "output_type": "execute_result"
    }
   ],
   "source": [
    "explained_variance"
   ]
  },
  {
   "cell_type": "code",
   "execution_count": 32,
   "metadata": {},
   "outputs": [
    {
     "data": {
      "text/plain": [
       "1.0"
      ]
     },
     "execution_count": 32,
     "metadata": {},
     "output_type": "execute_result"
    }
   ],
   "source": [
    "explained_variance.sum()"
   ]
  },
  {
   "cell_type": "code",
   "execution_count": 33,
   "metadata": {},
   "outputs": [
    {
     "data": {
      "text/plain": [
       "[<matplotlib.lines.Line2D at 0x2d0300ba790>]"
      ]
     },
     "execution_count": 33,
     "metadata": {},
     "output_type": "execute_result"
    },
    {
     "data": {
      "image/png": "[encoded data removed]",
      "text/plain": [
       "<Figure size 640x480 with 1 Axes>"
      ]
     },
     "metadata": {},
     "output_type": "display_data"
    }
   ],
   "source": [
    "var1=np.cumsum(explained_variance*100)\n",
    "plt.plot(var1,  marker='o')"
   ]
  },
  {
   "cell_type": "code",
   "execution_count": 34,
   "metadata": {},
   "outputs": [
    {
     "data": {
      "text/plain": [
       "(6818, 35)"
      ]
     },
     "execution_count": 34,
     "metadata": {},
     "output_type": "execute_result"
    }
   ],
   "source": [
    "X_train.shape"
   ]
  },
  {
   "cell_type": "code",
   "execution_count": 35,
   "metadata": {},
   "outputs": [
    {
     "data": {
      "text/plain": [
       "(6818, 35)"
      ]
     },
     "execution_count": 35,
     "metadata": {},
     "output_type": "execute_result"
    }
   ],
   "source": [
    "X_train_pca.shape"
   ]
  },
  {
   "cell_type": "code",
   "execution_count": 36,
   "metadata": {},
   "outputs": [],
   "source": [
    "pca = PCA(n_components = 28)\n",
    "X_train2 = pca.fit_transform(X_train_pca)\n",
    "X_test2 = pca.transform(X_test_pca)\n",
    "explained_variance = pca.explained_variance_ratio_"
   ]
  },
  {
   "cell_type": "code",
   "execution_count": 37,
   "metadata": {},
   "outputs": [
    {
     "data": {
      "text/plain": [
       "array([0.09402206, 0.07436368, 0.06283177, 0.05328976, 0.03950763,\n",
       "       0.03431693, 0.03359343, 0.03341958, 0.0325041 , 0.03220459,\n",
       "       0.03160071, 0.03142041, 0.03117499, 0.03076504, 0.03061065,\n",
       "       0.0300695 , 0.02991589, 0.02951138, 0.02935567, 0.0288747 ,\n",
       "       0.02868983, 0.02840698, 0.02794145, 0.02634304, 0.025483  ,\n",
       "       0.02518822, 0.02103458, 0.02012124])"
      ]
     },
     "execution_count": 37,
     "metadata": {},
     "output_type": "execute_result"
    }
   ],
   "source": [
    "explained_variance"
   ]
  },
  {
   "cell_type": "code",
   "execution_count": 38,
   "metadata": {},
   "outputs": [
    {
     "data": {
      "text/plain": [
       "0.9965608188656655"
      ]
     },
     "execution_count": 38,
     "metadata": {},
     "output_type": "execute_result"
    }
   ],
   "source": [
    "explained_variance.sum()"
   ]
  },
  {
   "cell_type": "code",
   "execution_count": 39,
   "metadata": {},
   "outputs": [],
   "source": [
    "df_comp = pd.DataFrame(pca.components_,columns=X.columns)"
   ]
  },
  {
   "cell_type": "code",
   "execution_count": 40,
   "metadata": {},
   "outputs": [
    {
     "data": {
      "text/plain": [
       "<Axes: >"
      ]
     },
     "execution_count": 40,
     "metadata": {},
     "output_type": "execute_result"
    },
    {
     "data": {
      "image/png": "[encoded data removed]",
      "text/plain": [
       "<Figure size 1200x600 with 2 Axes>"
      ]
     },
     "metadata": {},
     "output_type": "display_data"
    }
   ],
   "source": [
    "plt.figure(figsize=(12,6))\n",
    "sns.heatmap(df_comp,cmap='plasma',)"
   ]
  },
  {
   "cell_type": "code",
   "execution_count": 41,
   "metadata": {},
   "outputs": [],
   "source": [
    "knn = KNeighborsRegressor(n_neighbors = 2)"
   ]
  },
  {
   "cell_type": "code",
   "execution_count": 42,
   "metadata": {},
   "outputs": [
    {
     "data": {
      "text/html": [
       "<style>#sk-container-id-3 {color: black;}#sk-container-id-3 pre{padding: 0;}#sk-container-id-3 div.sk-toggleable {background-color: white;}#sk-container-id-3 label.sk-toggleable__label {cursor: pointer;display: block;width: 100%;margin-bottom: 0;padding: 0.3em;box-sizing: border-box;text-align: center;}#sk-container-id-3 label.sk-toggleable__label-arrow:before {content: \"▸\";float: left;margin-right: 0.25em;color: #696969;}#sk-container-id-3 label.sk-toggleable__label-arrow:hover:before {color: black;}#sk-container-id-3 div.sk-estimator:hover label.sk-toggleable__label-arrow:before {color: black;}#sk-container-id-3 div.sk-toggleable__content {max-height: 0;max-width: 0;overflow: hidden;text-align: left;background-color: #f0f8ff;}#sk-container-id-3 div.sk-toggleable__content pre {margin: 0.2em;color: black;border-radius: 0.25em;background-color: #f0f8ff;}#sk-container-id-3 input.sk-toggleable__control:checked~div.sk-toggleable__content {max-height: 200px;max-width: 100%;overflow: auto;}#sk-container-id-3 input.sk-toggleable__control:checked~label.sk-toggleable__label-arrow:before {content: \"▾\";}#sk-container-id-3 div.sk-estimator input.sk-toggleable__control:checked~label.sk-toggleable__label {background-color: #d4ebff;}#sk-container-id-3 div.sk-label input.sk-toggleable__control:checked~label.sk-toggleable__label {background-color: #d4ebff;}#sk-container-id-3 input.sk-hidden--visually {border: 0;clip: rect(1px 1px 1px 1px);clip: rect(1px, 1px, 1px, 1px);height: 1px;margin: -1px;overflow: hidden;padding: 0;position: absolute;width: 1px;}#sk-container-id-3 div.sk-estimator {font-family: monospace;background-color: #f0f8ff;border: 1px dotted black;border-radius: 0.25em;box-sizing: border-box;margin-bottom: 0.5em;}#sk-container-id-3 div.sk-estimator:hover {background-color: #d4ebff;}#sk-container-id-3 div.sk-parallel-item::after {content: \"\";width: 100%;border-bottom: 1px solid gray;flex-grow: 1;}#sk-container-id-3 div.sk-label:hover label.sk-toggleable__label {background-color: #d4ebff;}#sk-container-id-3 div.sk-serial::before {content: \"\";position: absolute;border-left: 1px solid gray;box-sizing: border-box;top: 0;bottom: 0;left: 50%;z-index: 0;}#sk-container-id-3 div.sk-serial {display: flex;flex-direction: column;align-items: center;background-color: white;padding-right: 0.2em;padding-left: 0.2em;position: relative;}#sk-container-id-3 div.sk-item {position: relative;z-index: 1;}#sk-container-id-3 div.sk-parallel {display: flex;align-items: stretch;justify-content: center;background-color: white;position: relative;}#sk-container-id-3 div.sk-item::before, #sk-container-id-3 div.sk-parallel-item::before {content: \"\";position: absolute;border-left: 1px solid gray;box-sizing: border-box;top: 0;bottom: 0;left: 50%;z-index: -1;}#sk-container-id-3 div.sk-parallel-item {display: flex;flex-direction: column;z-index: 1;position: relative;background-color: white;}#sk-container-id-3 div.sk-parallel-item:first-child::after {align-self: flex-end;width: 50%;}#sk-container-id-3 div.sk-parallel-item:last-child::after {align-self: flex-start;width: 50%;}#sk-container-id-3 div.sk-parallel-item:only-child::after {width: 0;}#sk-container-id-3 div.sk-dashed-wrapped {border: 1px dashed gray;margin: 0 0.4em 0.5em 0.4em;box-sizing: border-box;padding-bottom: 0.4em;background-color: white;}#sk-container-id-3 div.sk-label label {font-family: monospace;font-weight: bold;display: inline-block;line-height: 1.2em;}#sk-container-id-3 div.sk-label-container {text-align: center;}#sk-container-id-3 div.sk-container {/* jupyter's `normalize.less` sets `[hidden] { display: none; }` but bootstrap.min.css set `[hidden] { display: none !important; }` so we also need the `!important` here to be able to override the default hidden behavior on the sphinx rendered scikit-learn.org. See: https://github.com/scikit-learn/scikit-learn/issues/21755 */display: inline-block !important;position: relative;}#sk-container-id-3 div.sk-text-repr-fallback {display: none;}</style><div id=\"sk-container-id-3\" class=\"sk-top-container\"><div class=\"sk-text-repr-fallback\"><pre>KNeighborsRegressor(n_neighbors=2)</pre><b>In a Jupyter environment, please rerun this cell to show the HTML representation or trust the notebook. <br />On GitHub, the HTML representation is unable to render, please try loading this page with nbviewer.org.</b></div><div class=\"sk-container\" hidden><div class=\"sk-item\"><div class=\"sk-estimator sk-toggleable\"><input class=\"sk-toggleable__control sk-hidden--visually\" id=\"sk-estimator-id-5\" type=\"checkbox\" checked><label for=\"sk-estimator-id-5\" class=\"sk-toggleable__label sk-toggleable__label-arrow\">KNeighborsRegressor</label><div class=\"sk-toggleable__content\"><pre>KNeighborsRegressor(n_neighbors=2)</pre></div></div></div></div></div>"
      ],
      "text/plain": [
       "KNeighborsRegressor(n_neighbors=2)"
      ]
     },
     "execution_count": 42,
     "metadata": {},
     "output_type": "execute_result"
    }
   ],
   "source": [
    "knn.fit(X_train2,y_train)"
   ]
  },
  {
   "cell_type": "code",
   "execution_count": 43,
   "metadata": {},
   "outputs": [],
   "source": [
    "predictions2 = knn.predict(X_test2)"
   ]
  },
  {
   "cell_type": "code",
   "execution_count": 44,
   "metadata": {},
   "outputs": [
    {
     "name": "stdout",
     "output_type": "stream",
     "text": [
      "MAE 941.0155565982404\n",
      "MSE 1769609.3917866324\n",
      "RMSE 1330.2666619090446\n"
     ]
    }
   ],
   "source": [
    "print(\"MAE\", metrics.mean_absolute_error(y_test,predictions2))\n",
    "print(\"MSE\", metrics.mean_squared_error(y_test,predictions2)) \n",
    "print(\"RMSE\", np.sqrt(metrics.mean_squared_error(y_test,predictions2)))"
   ]
  },
  {
   "cell_type": "code",
   "execution_count": 45,
   "metadata": {},
   "outputs": [],
   "source": [
    "param_grid = {'n_neighbors': list(range(1,29)), 'metric': [\"euclidean\", \"manhattan\"]}"
   ]
  },
  {
   "cell_type": "code",
   "execution_count": 46,
   "metadata": {},
   "outputs": [
    {
     "name": "stdout",
     "output_type": "stream",
     "text": [
      "Fitting 5 folds for each of 56 candidates, totalling 280 fits\n",
      "[CV 1/5] END ...metric=euclidean, n_neighbors=1;, score=0.120 total time=   0.1s\n",
      "[CV 2/5] END ...metric=euclidean, n_neighbors=1;, score=0.205 total time=   0.0s\n",
      "[CV 3/5] END ...metric=euclidean, n_neighbors=1;, score=0.125 total time=   0.0s\n",
      "[CV 4/5] END ...metric=euclidean, n_neighbors=1;, score=0.143 total time=   0.0s\n",
      "[CV 5/5] END ...metric=euclidean, n_neighbors=1;, score=0.115 total time=   0.1s\n",
      "[CV 1/5] END ...metric=euclidean, n_neighbors=2;, score=0.325 total time=   0.1s\n",
      "[CV 2/5] END ...metric=euclidean, n_neighbors=2;, score=0.332 total time=   0.0s\n",
      "[CV 3/5] END ...metric=euclidean, n_neighbors=2;, score=0.319 total time=   0.0s\n",
      "[CV 4/5] END ...metric=euclidean, n_neighbors=2;, score=0.324 total time=   0.0s\n",
      "[CV 5/5] END ...metric=euclidean, n_neighbors=2;, score=0.275 total time=   0.0s\n",
      "[CV 1/5] END ...metric=euclidean, n_neighbors=3;, score=0.394 total time=   0.0s\n",
      "[CV 2/5] END ...metric=euclidean, n_neighbors=3;, score=0.384 total time=   0.1s\n",
      "[CV 3/5] END ...metric=euclidean, n_neighbors=3;, score=0.395 total time=   0.1s\n",
      "[CV 4/5] END ...metric=euclidean, n_neighbors=3;, score=0.412 total time=   0.0s\n",
      "[CV 5/5] END ...metric=euclidean, n_neighbors=3;, score=0.356 total time=   0.1s\n",
      "[CV 1/5] END ...metric=euclidean, n_neighbors=4;, score=0.423 total time=   0.1s\n",
      "[CV 2/5] END ...metric=euclidean, n_neighbors=4;, score=0.424 total time=   0.1s\n",
      "[CV 3/5] END ...metric=euclidean, n_neighbors=4;, score=0.431 total time=   0.0s\n",
      "[CV 4/5] END ...metric=euclidean, n_neighbors=4;, score=0.446 total time=   0.1s\n",
      "[CV 5/5] END ...metric=euclidean, n_neighbors=4;, score=0.373 total time=   0.1s\n",
      "[CV 1/5] END ...metric=euclidean, n_neighbors=5;, score=0.440 total time=   0.0s\n",
      "[CV 2/5] END ...metric=euclidean, n_neighbors=5;, score=0.449 total time=   0.1s\n",
      "[CV 3/5] END ...metric=euclidean, n_neighbors=5;, score=0.434 total time=   0.1s\n",
      "[CV 4/5] END ...metric=euclidean, n_neighbors=5;, score=0.456 total time=   0.0s\n",
      "[CV 5/5] END ...metric=euclidean, n_neighbors=5;, score=0.389 total time=   0.1s\n",
      "[CV 1/5] END ...metric=euclidean, n_neighbors=6;, score=0.442 total time=   0.1s\n",
      "[CV 2/5] END ...metric=euclidean, n_neighbors=6;, score=0.455 total time=   0.1s\n",
      "[CV 3/5] END ...metric=euclidean, n_neighbors=6;, score=0.437 total time=   0.0s\n",
      "[CV 4/5] END ...metric=euclidean, n_neighbors=6;, score=0.454 total time=   0.0s\n",
      "[CV 5/5] END ...metric=euclidean, n_neighbors=6;, score=0.400 total time=   0.1s\n",
      "[CV 1/5] END ...metric=euclidean, n_neighbors=7;, score=0.445 total time=   0.1s\n",
      "[CV 2/5] END ...metric=euclidean, n_neighbors=7;, score=0.455 total time=   0.1s\n",
      "[CV 3/5] END ...metric=euclidean, n_neighbors=7;, score=0.436 total time=   0.1s\n",
      "[CV 4/5] END ...metric=euclidean, n_neighbors=7;, score=0.460 total time=   0.1s\n",
      "[CV 5/5] END ...metric=euclidean, n_neighbors=7;, score=0.400 total time=   0.0s\n",
      "[CV 1/5] END ...metric=euclidean, n_neighbors=8;, score=0.451 total time=   0.0s\n",
      "[CV 2/5] END ...metric=euclidean, n_neighbors=8;, score=0.455 total time=   0.1s\n",
      "[CV 3/5] END ...metric=euclidean, n_neighbors=8;, score=0.436 total time=   0.1s\n",
      "[CV 4/5] END ...metric=euclidean, n_neighbors=8;, score=0.461 total time=   0.1s\n",
      "[CV 5/5] END ...metric=euclidean, n_neighbors=8;, score=0.415 total time=   0.1s\n",
      "[CV 1/5] END ...metric=euclidean, n_neighbors=9;, score=0.449 total time=   0.1s\n",
      "[CV 2/5] END ...metric=euclidean, n_neighbors=9;, score=0.452 total time=   0.1s\n",
      "[CV 3/5] END ...metric=euclidean, n_neighbors=9;, score=0.434 total time=   0.0s\n",
      "[CV 4/5] END ...metric=euclidean, n_neighbors=9;, score=0.452 total time=   0.1s\n",
      "[CV 5/5] END ...metric=euclidean, n_neighbors=9;, score=0.413 total time=   0.1s\n",
      "[CV 1/5] END ..metric=euclidean, n_neighbors=10;, score=0.450 total time=   0.1s\n",
      "[CV 2/5] END ..metric=euclidean, n_neighbors=10;, score=0.449 total time=   0.1s\n",
      "[CV 3/5] END ..metric=euclidean, n_neighbors=10;, score=0.433 total time=   0.1s\n",
      "[CV 4/5] END ..metric=euclidean, n_neighbors=10;, score=0.444 total time=   0.1s\n",
      "[CV 5/5] END ..metric=euclidean, n_neighbors=10;, score=0.410 total time=   0.1s\n",
      "[CV 1/5] END ..metric=euclidean, n_neighbors=11;, score=0.445 total time=   0.1s\n",
      "[CV 2/5] END ..metric=euclidean, n_neighbors=11;, score=0.447 total time=   0.1s\n",
      "[CV 3/5] END ..metric=euclidean, n_neighbors=11;, score=0.433 total time=   0.1s\n",
      "[CV 4/5] END ..metric=euclidean, n_neighbors=11;, score=0.444 total time=   0.1s\n",
      "[CV 5/5] END ..metric=euclidean, n_neighbors=11;, score=0.411 total time=   0.1s\n",
      "[CV 1/5] END ..metric=euclidean, n_neighbors=12;, score=0.440 total time=   0.1s\n",
      "[CV 2/5] END ..metric=euclidean, n_neighbors=12;, score=0.440 total time=   0.0s\n",
      "[CV 3/5] END ..metric=euclidean, n_neighbors=12;, score=0.425 total time=   0.1s\n",
      "[CV 4/5] END ..metric=euclidean, n_neighbors=12;, score=0.437 total time=   0.0s\n",
      "[CV 5/5] END ..metric=euclidean, n_neighbors=12;, score=0.409 total time=   0.1s\n",
      "[CV 1/5] END ..metric=euclidean, n_neighbors=13;, score=0.432 total time=   0.1s\n",
      "[CV 2/5] END ..metric=euclidean, n_neighbors=13;, score=0.436 total time=   0.1s\n",
      "[CV 3/5] END ..metric=euclidean, n_neighbors=13;, score=0.427 total time=   0.0s\n",
      "[CV 4/5] END ..metric=euclidean, n_neighbors=13;, score=0.433 total time=   0.1s\n",
      "[CV 5/5] END ..metric=euclidean, n_neighbors=13;, score=0.407 total time=   0.0s\n",
      "[CV 1/5] END ..metric=euclidean, n_neighbors=14;, score=0.428 total time=   0.1s\n",
      "[CV 2/5] END ..metric=euclidean, n_neighbors=14;, score=0.433 total time=   0.1s\n",
      "[CV 3/5] END ..metric=euclidean, n_neighbors=14;, score=0.422 total time=   0.1s\n",
      "[CV 4/5] END ..metric=euclidean, n_neighbors=14;, score=0.431 total time=   0.1s\n",
      "[CV 5/5] END ..metric=euclidean, n_neighbors=14;, score=0.407 total time=   0.1s\n",
      "[CV 1/5] END ..metric=euclidean, n_neighbors=15;, score=0.427 total time=   0.1s\n",
      "[CV 2/5] END ..metric=euclidean, n_neighbors=15;, score=0.431 total time=   0.0s\n",
      "[CV 3/5] END ..metric=euclidean, n_neighbors=15;, score=0.418 total time=   0.1s\n",
      "[CV 4/5] END ..metric=euclidean, n_neighbors=15;, score=0.425 total time=   0.1s\n",
      "[CV 5/5] END ..metric=euclidean, n_neighbors=15;, score=0.403 total time=   0.1s\n",
      "[CV 1/5] END ..metric=euclidean, n_neighbors=16;, score=0.429 total time=   0.1s\n",
      "[CV 2/5] END ..metric=euclidean, n_neighbors=16;, score=0.426 total time=   0.1s\n",
      "[CV 3/5] END ..metric=euclidean, n_neighbors=16;, score=0.415 total time=   0.1s\n",
      "[CV 4/5] END ..metric=euclidean, n_neighbors=16;, score=0.420 total time=   0.1s\n",
      "[CV 5/5] END ..metric=euclidean, n_neighbors=16;, score=0.398 total time=   0.1s\n",
      "[CV 1/5] END ..metric=euclidean, n_neighbors=17;, score=0.428 total time=   0.1s\n",
      "[CV 2/5] END ..metric=euclidean, n_neighbors=17;, score=0.421 total time=   0.1s\n",
      "[CV 3/5] END ..metric=euclidean, n_neighbors=17;, score=0.415 total time=   0.1s\n",
      "[CV 4/5] END ..metric=euclidean, n_neighbors=17;, score=0.415 total time=   0.1s\n",
      "[CV 5/5] END ..metric=euclidean, n_neighbors=17;, score=0.396 total time=   0.1s\n",
      "[CV 1/5] END ..metric=euclidean, n_neighbors=18;, score=0.425 total time=   0.1s\n",
      "[CV 2/5] END ..metric=euclidean, n_neighbors=18;, score=0.420 total time=   0.1s\n",
      "[CV 3/5] END ..metric=euclidean, n_neighbors=18;, score=0.407 total time=   0.0s\n",
      "[CV 4/5] END ..metric=euclidean, n_neighbors=18;, score=0.412 total time=   0.1s\n",
      "[CV 5/5] END ..metric=euclidean, n_neighbors=18;, score=0.393 total time=   0.1s\n",
      "[CV 1/5] END ..metric=euclidean, n_neighbors=19;, score=0.419 total time=   0.1s\n",
      "[CV 2/5] END ..metric=euclidean, n_neighbors=19;, score=0.419 total time=   0.1s\n",
      "[CV 3/5] END ..metric=euclidean, n_neighbors=19;, score=0.403 total time=   0.1s\n",
      "[CV 4/5] END ..metric=euclidean, n_neighbors=19;, score=0.404 total time=   0.1s\n",
      "[CV 5/5] END ..metric=euclidean, n_neighbors=19;, score=0.390 total time=   0.1s\n",
      "[CV 1/5] END ..metric=euclidean, n_neighbors=20;, score=0.418 total time=   0.1s\n",
      "[CV 2/5] END ..metric=euclidean, n_neighbors=20;, score=0.415 total time=   0.1s\n",
      "[CV 3/5] END ..metric=euclidean, n_neighbors=20;, score=0.395 total time=   0.1s\n",
      "[CV 4/5] END ..metric=euclidean, n_neighbors=20;, score=0.398 total time=   0.1s\n",
      "[CV 5/5] END ..metric=euclidean, n_neighbors=20;, score=0.388 total time=   0.1s\n",
      "[CV 1/5] END ..metric=euclidean, n_neighbors=21;, score=0.413 total time=   0.2s\n"
     ]
    },
    {
     "name": "stdout",
     "output_type": "stream",
     "text": [
      "[CV 2/5] END ..metric=euclidean, n_neighbors=21;, score=0.409 total time=   0.1s\n",
      "[CV 3/5] END ..metric=euclidean, n_neighbors=21;, score=0.392 total time=   0.1s\n",
      "[CV 4/5] END ..metric=euclidean, n_neighbors=21;, score=0.392 total time=   0.1s\n",
      "[CV 5/5] END ..metric=euclidean, n_neighbors=21;, score=0.384 total time=   0.0s\n",
      "[CV 1/5] END ..metric=euclidean, n_neighbors=22;, score=0.410 total time=   0.2s\n",
      "[CV 2/5] END ..metric=euclidean, n_neighbors=22;, score=0.403 total time=   0.1s\n",
      "[CV 3/5] END ..metric=euclidean, n_neighbors=22;, score=0.391 total time=   0.1s\n",
      "[CV 4/5] END ..metric=euclidean, n_neighbors=22;, score=0.386 total time=   0.0s\n",
      "[CV 5/5] END ..metric=euclidean, n_neighbors=22;, score=0.381 total time=   0.2s\n",
      "[CV 1/5] END ..metric=euclidean, n_neighbors=23;, score=0.404 total time=   0.1s\n",
      "[CV 2/5] END ..metric=euclidean, n_neighbors=23;, score=0.396 total time=   0.1s\n",
      "[CV 3/5] END ..metric=euclidean, n_neighbors=23;, score=0.385 total time=   0.2s\n",
      "[CV 4/5] END ..metric=euclidean, n_neighbors=23;, score=0.383 total time=   0.2s\n",
      "[CV 5/5] END ..metric=euclidean, n_neighbors=23;, score=0.380 total time=   0.1s\n",
      "[CV 1/5] END ..metric=euclidean, n_neighbors=24;, score=0.400 total time=   0.1s\n",
      "[CV 2/5] END ..metric=euclidean, n_neighbors=24;, score=0.393 total time=   0.1s\n",
      "[CV 3/5] END ..metric=euclidean, n_neighbors=24;, score=0.381 total time=   0.1s\n",
      "[CV 4/5] END ..metric=euclidean, n_neighbors=24;, score=0.377 total time=   0.2s\n",
      "[CV 5/5] END ..metric=euclidean, n_neighbors=24;, score=0.377 total time=   0.1s\n",
      "[CV 1/5] END ..metric=euclidean, n_neighbors=25;, score=0.397 total time=   0.1s\n",
      "[CV 2/5] END ..metric=euclidean, n_neighbors=25;, score=0.387 total time=   0.2s\n",
      "[CV 3/5] END ..metric=euclidean, n_neighbors=25;, score=0.377 total time=   0.1s\n",
      "[CV 4/5] END ..metric=euclidean, n_neighbors=25;, score=0.373 total time=   0.1s\n",
      "[CV 5/5] END ..metric=euclidean, n_neighbors=25;, score=0.374 total time=   0.1s\n",
      "[CV 1/5] END ..metric=euclidean, n_neighbors=26;, score=0.393 total time=   0.1s\n",
      "[CV 2/5] END ..metric=euclidean, n_neighbors=26;, score=0.380 total time=   0.1s\n",
      "[CV 3/5] END ..metric=euclidean, n_neighbors=26;, score=0.375 total time=   0.1s\n",
      "[CV 4/5] END ..metric=euclidean, n_neighbors=26;, score=0.368 total time=   0.1s\n",
      "[CV 5/5] END ..metric=euclidean, n_neighbors=26;, score=0.373 total time=   0.1s\n",
      "[CV 1/5] END ..metric=euclidean, n_neighbors=27;, score=0.391 total time=   0.1s\n",
      "[CV 2/5] END ..metric=euclidean, n_neighbors=27;, score=0.376 total time=   0.1s\n",
      "[CV 3/5] END ..metric=euclidean, n_neighbors=27;, score=0.374 total time=   0.1s\n",
      "[CV 4/5] END ..metric=euclidean, n_neighbors=27;, score=0.363 total time=   0.1s\n",
      "[CV 5/5] END ..metric=euclidean, n_neighbors=27;, score=0.373 total time=   0.1s\n",
      "[CV 1/5] END ..metric=euclidean, n_neighbors=28;, score=0.391 total time=   0.1s\n",
      "[CV 2/5] END ..metric=euclidean, n_neighbors=28;, score=0.371 total time=   0.1s\n",
      "[CV 3/5] END ..metric=euclidean, n_neighbors=28;, score=0.370 total time=   0.1s\n",
      "[CV 4/5] END ..metric=euclidean, n_neighbors=28;, score=0.360 total time=   0.1s\n",
      "[CV 5/5] END ..metric=euclidean, n_neighbors=28;, score=0.372 total time=   0.1s\n",
      "[CV 1/5] END ...metric=manhattan, n_neighbors=1;, score=0.091 total time=   0.2s\n",
      "[CV 2/5] END ...metric=manhattan, n_neighbors=1;, score=0.198 total time=   0.2s\n",
      "[CV 3/5] END ...metric=manhattan, n_neighbors=1;, score=0.133 total time=   0.2s\n",
      "[CV 4/5] END ...metric=manhattan, n_neighbors=1;, score=0.119 total time=   0.2s\n",
      "[CV 5/5] END ...metric=manhattan, n_neighbors=1;, score=0.064 total time=   0.2s\n",
      "[CV 1/5] END ...metric=manhattan, n_neighbors=2;, score=0.329 total time=   0.2s\n",
      "[CV 2/5] END ...metric=manhattan, n_neighbors=2;, score=0.358 total time=   0.2s\n",
      "[CV 3/5] END ...metric=manhattan, n_neighbors=2;, score=0.317 total time=   0.2s\n",
      "[CV 4/5] END ...metric=manhattan, n_neighbors=2;, score=0.340 total time=   0.2s\n",
      "[CV 5/5] END ...metric=manhattan, n_neighbors=2;, score=0.278 total time=   0.2s\n",
      "[CV 1/5] END ...metric=manhattan, n_neighbors=3;, score=0.393 total time=   0.2s\n",
      "[CV 2/5] END ...metric=manhattan, n_neighbors=3;, score=0.392 total time=   0.2s\n",
      "[CV 3/5] END ...metric=manhattan, n_neighbors=3;, score=0.407 total time=   0.2s\n",
      "[CV 4/5] END ...metric=manhattan, n_neighbors=3;, score=0.414 total time=   0.2s\n",
      "[CV 5/5] END ...metric=manhattan, n_neighbors=3;, score=0.358 total time=   0.2s\n",
      "[CV 1/5] END ...metric=manhattan, n_neighbors=4;, score=0.428 total time=   0.2s\n",
      "[CV 2/5] END ...metric=manhattan, n_neighbors=4;, score=0.427 total time=   0.2s\n",
      "[CV 3/5] END ...metric=manhattan, n_neighbors=4;, score=0.433 total time=   0.2s\n",
      "[CV 4/5] END ...metric=manhattan, n_neighbors=4;, score=0.454 total time=   0.2s\n",
      "[CV 5/5] END ...metric=manhattan, n_neighbors=4;, score=0.378 total time=   0.2s\n",
      "[CV 1/5] END ...metric=manhattan, n_neighbors=5;, score=0.438 total time=   0.2s\n",
      "[CV 2/5] END ...metric=manhattan, n_neighbors=5;, score=0.451 total time=   0.2s\n",
      "[CV 3/5] END ...metric=manhattan, n_neighbors=5;, score=0.447 total time=   0.3s\n",
      "[CV 4/5] END ...metric=manhattan, n_neighbors=5;, score=0.463 total time=   0.2s\n",
      "[CV 5/5] END ...metric=manhattan, n_neighbors=5;, score=0.407 total time=   0.2s\n",
      "[CV 1/5] END ...metric=manhattan, n_neighbors=6;, score=0.450 total time=   0.2s\n",
      "[CV 2/5] END ...metric=manhattan, n_neighbors=6;, score=0.464 total time=   0.2s\n",
      "[CV 3/5] END ...metric=manhattan, n_neighbors=6;, score=0.449 total time=   0.2s\n",
      "[CV 4/5] END ...metric=manhattan, n_neighbors=6;, score=0.469 total time=   0.2s\n",
      "[CV 5/5] END ...metric=manhattan, n_neighbors=6;, score=0.416 total time=   0.2s\n",
      "[CV 1/5] END ...metric=manhattan, n_neighbors=7;, score=0.458 total time=   0.2s\n",
      "[CV 2/5] END ...metric=manhattan, n_neighbors=7;, score=0.464 total time=   0.2s\n",
      "[CV 3/5] END ...metric=manhattan, n_neighbors=7;, score=0.452 total time=   0.2s\n",
      "[CV 4/5] END ...metric=manhattan, n_neighbors=7;, score=0.470 total time=   0.2s\n",
      "[CV 5/5] END ...metric=manhattan, n_neighbors=7;, score=0.415 total time=   0.2s\n",
      "[CV 1/5] END ...metric=manhattan, n_neighbors=8;, score=0.462 total time=   0.2s\n",
      "[CV 2/5] END ...metric=manhattan, n_neighbors=8;, score=0.460 total time=   0.2s\n",
      "[CV 3/5] END ...metric=manhattan, n_neighbors=8;, score=0.447 total time=   0.2s\n",
      "[CV 4/5] END ...metric=manhattan, n_neighbors=8;, score=0.463 total time=   0.2s\n",
      "[CV 5/5] END ...metric=manhattan, n_neighbors=8;, score=0.411 total time=   0.2s\n",
      "[CV 1/5] END ...metric=manhattan, n_neighbors=9;, score=0.464 total time=   0.2s\n",
      "[CV 2/5] END ...metric=manhattan, n_neighbors=9;, score=0.460 total time=   0.2s\n",
      "[CV 3/5] END ...metric=manhattan, n_neighbors=9;, score=0.453 total time=   0.2s\n",
      "[CV 4/5] END ...metric=manhattan, n_neighbors=9;, score=0.453 total time=   0.2s\n",
      "[CV 5/5] END ...metric=manhattan, n_neighbors=9;, score=0.420 total time=   0.2s\n",
      "[CV 1/5] END ..metric=manhattan, n_neighbors=10;, score=0.461 total time=   0.2s\n",
      "[CV 2/5] END ..metric=manhattan, n_neighbors=10;, score=0.454 total time=   0.2s\n",
      "[CV 3/5] END ..metric=manhattan, n_neighbors=10;, score=0.444 total time=   0.2s\n",
      "[CV 4/5] END ..metric=manhattan, n_neighbors=10;, score=0.450 total time=   0.2s\n",
      "[CV 5/5] END ..metric=manhattan, n_neighbors=10;, score=0.413 total time=   0.2s\n",
      "[CV 1/5] END ..metric=manhattan, n_neighbors=11;, score=0.453 total time=   0.2s\n",
      "[CV 2/5] END ..metric=manhattan, n_neighbors=11;, score=0.456 total time=   0.2s\n",
      "[CV 3/5] END ..metric=manhattan, n_neighbors=11;, score=0.436 total time=   0.2s\n",
      "[CV 4/5] END ..metric=manhattan, n_neighbors=11;, score=0.445 total time=   0.2s\n",
      "[CV 5/5] END ..metric=manhattan, n_neighbors=11;, score=0.415 total time=   0.2s\n",
      "[CV 1/5] END ..metric=manhattan, n_neighbors=12;, score=0.451 total time=   0.2s\n",
      "[CV 2/5] END ..metric=manhattan, n_neighbors=12;, score=0.455 total time=   0.2s\n",
      "[CV 3/5] END ..metric=manhattan, n_neighbors=12;, score=0.431 total time=   0.2s\n",
      "[CV 4/5] END ..metric=manhattan, n_neighbors=12;, score=0.448 total time=   0.2s\n",
      "[CV 5/5] END ..metric=manhattan, n_neighbors=12;, score=0.413 total time=   0.2s\n",
      "[CV 1/5] END ..metric=manhattan, n_neighbors=13;, score=0.446 total time=   0.2s\n",
      "[CV 2/5] END ..metric=manhattan, n_neighbors=13;, score=0.453 total time=   0.2s\n",
      "[CV 3/5] END ..metric=manhattan, n_neighbors=13;, score=0.430 total time=   0.3s\n"
     ]
    },
    {
     "name": "stdout",
     "output_type": "stream",
     "text": [
      "[CV 4/5] END ..metric=manhattan, n_neighbors=13;, score=0.443 total time=   0.2s\n",
      "[CV 5/5] END ..metric=manhattan, n_neighbors=13;, score=0.410 total time=   0.2s\n",
      "[CV 1/5] END ..metric=manhattan, n_neighbors=14;, score=0.447 total time=   0.2s\n",
      "[CV 2/5] END ..metric=manhattan, n_neighbors=14;, score=0.449 total time=   0.3s\n",
      "[CV 3/5] END ..metric=manhattan, n_neighbors=14;, score=0.429 total time=   0.2s\n",
      "[CV 4/5] END ..metric=manhattan, n_neighbors=14;, score=0.436 total time=   0.3s\n",
      "[CV 5/5] END ..metric=manhattan, n_neighbors=14;, score=0.403 total time=   0.2s\n",
      "[CV 1/5] END ..metric=manhattan, n_neighbors=15;, score=0.442 total time=   0.3s\n",
      "[CV 2/5] END ..metric=manhattan, n_neighbors=15;, score=0.443 total time=   0.3s\n",
      "[CV 3/5] END ..metric=manhattan, n_neighbors=15;, score=0.430 total time=   0.3s\n",
      "[CV 4/5] END ..metric=manhattan, n_neighbors=15;, score=0.435 total time=   0.3s\n",
      "[CV 5/5] END ..metric=manhattan, n_neighbors=15;, score=0.408 total time=   0.2s\n",
      "[CV 1/5] END ..metric=manhattan, n_neighbors=16;, score=0.443 total time=   0.3s\n",
      "[CV 2/5] END ..metric=manhattan, n_neighbors=16;, score=0.436 total time=   0.3s\n",
      "[CV 3/5] END ..metric=manhattan, n_neighbors=16;, score=0.426 total time=   0.3s\n",
      "[CV 4/5] END ..metric=manhattan, n_neighbors=16;, score=0.432 total time=   0.2s\n",
      "[CV 5/5] END ..metric=manhattan, n_neighbors=16;, score=0.407 total time=   0.3s\n",
      "[CV 1/5] END ..metric=manhattan, n_neighbors=17;, score=0.442 total time=   0.2s\n",
      "[CV 2/5] END ..metric=manhattan, n_neighbors=17;, score=0.431 total time=   0.2s\n",
      "[CV 3/5] END ..metric=manhattan, n_neighbors=17;, score=0.423 total time=   0.3s\n",
      "[CV 4/5] END ..metric=manhattan, n_neighbors=17;, score=0.430 total time=   0.3s\n",
      "[CV 5/5] END ..metric=manhattan, n_neighbors=17;, score=0.408 total time=   0.3s\n",
      "[CV 1/5] END ..metric=manhattan, n_neighbors=18;, score=0.440 total time=   0.2s\n",
      "[CV 2/5] END ..metric=manhattan, n_neighbors=18;, score=0.428 total time=   0.3s\n",
      "[CV 3/5] END ..metric=manhattan, n_neighbors=18;, score=0.417 total time=   0.3s\n",
      "[CV 4/5] END ..metric=manhattan, n_neighbors=18;, score=0.425 total time=   0.2s\n",
      "[CV 5/5] END ..metric=manhattan, n_neighbors=18;, score=0.405 total time=   0.3s\n",
      "[CV 1/5] END ..metric=manhattan, n_neighbors=19;, score=0.437 total time=   0.2s\n",
      "[CV 2/5] END ..metric=manhattan, n_neighbors=19;, score=0.424 total time=   0.3s\n",
      "[CV 3/5] END ..metric=manhattan, n_neighbors=19;, score=0.413 total time=   0.3s\n",
      "[CV 4/5] END ..metric=manhattan, n_neighbors=19;, score=0.421 total time=   0.3s\n",
      "[CV 5/5] END ..metric=manhattan, n_neighbors=19;, score=0.401 total time=   0.3s\n",
      "[CV 1/5] END ..metric=manhattan, n_neighbors=20;, score=0.435 total time=   0.3s\n",
      "[CV 2/5] END ..metric=manhattan, n_neighbors=20;, score=0.421 total time=   0.3s\n",
      "[CV 3/5] END ..metric=manhattan, n_neighbors=20;, score=0.409 total time=   0.4s\n",
      "[CV 4/5] END ..metric=manhattan, n_neighbors=20;, score=0.416 total time=   0.2s\n",
      "[CV 5/5] END ..metric=manhattan, n_neighbors=20;, score=0.398 total time=   0.2s\n",
      "[CV 1/5] END ..metric=manhattan, n_neighbors=21;, score=0.434 total time=   0.2s\n",
      "[CV 2/5] END ..metric=manhattan, n_neighbors=21;, score=0.419 total time=   0.2s\n",
      "[CV 3/5] END ..metric=manhattan, n_neighbors=21;, score=0.405 total time=   0.3s\n",
      "[CV 4/5] END ..metric=manhattan, n_neighbors=21;, score=0.412 total time=   0.2s\n",
      "[CV 5/5] END ..metric=manhattan, n_neighbors=21;, score=0.397 total time=   0.3s\n",
      "[CV 1/5] END ..metric=manhattan, n_neighbors=22;, score=0.433 total time=   0.3s\n",
      "[CV 2/5] END ..metric=manhattan, n_neighbors=22;, score=0.416 total time=   0.3s\n",
      "[CV 3/5] END ..metric=manhattan, n_neighbors=22;, score=0.401 total time=   0.2s\n",
      "[CV 4/5] END ..metric=manhattan, n_neighbors=22;, score=0.409 total time=   0.3s\n",
      "[CV 5/5] END ..metric=manhattan, n_neighbors=22;, score=0.397 total time=   0.3s\n",
      "[CV 1/5] END ..metric=manhattan, n_neighbors=23;, score=0.431 total time=   0.3s\n",
      "[CV 2/5] END ..metric=manhattan, n_neighbors=23;, score=0.410 total time=   0.3s\n",
      "[CV 3/5] END ..metric=manhattan, n_neighbors=23;, score=0.397 total time=   0.3s\n",
      "[CV 4/5] END ..metric=manhattan, n_neighbors=23;, score=0.405 total time=   0.3s\n",
      "[CV 5/5] END ..metric=manhattan, n_neighbors=23;, score=0.393 total time=   0.2s\n",
      "[CV 1/5] END ..metric=manhattan, n_neighbors=24;, score=0.432 total time=   0.3s\n",
      "[CV 2/5] END ..metric=manhattan, n_neighbors=24;, score=0.407 total time=   0.3s\n",
      "[CV 3/5] END ..metric=manhattan, n_neighbors=24;, score=0.393 total time=   0.3s\n",
      "[CV 4/5] END ..metric=manhattan, n_neighbors=24;, score=0.403 total time=   0.3s\n",
      "[CV 5/5] END ..metric=manhattan, n_neighbors=24;, score=0.389 total time=   0.3s\n",
      "[CV 1/5] END ..metric=manhattan, n_neighbors=25;, score=0.431 total time=   0.3s\n",
      "[CV 2/5] END ..metric=manhattan, n_neighbors=25;, score=0.407 total time=   0.3s\n",
      "[CV 3/5] END ..metric=manhattan, n_neighbors=25;, score=0.391 total time=   0.2s\n",
      "[CV 4/5] END ..metric=manhattan, n_neighbors=25;, score=0.401 total time=   0.3s\n",
      "[CV 5/5] END ..metric=manhattan, n_neighbors=25;, score=0.386 total time=   0.3s\n",
      "[CV 1/5] END ..metric=manhattan, n_neighbors=26;, score=0.429 total time=   0.2s\n",
      "[CV 2/5] END ..metric=manhattan, n_neighbors=26;, score=0.402 total time=   0.3s\n",
      "[CV 3/5] END ..metric=manhattan, n_neighbors=26;, score=0.390 total time=   0.2s\n",
      "[CV 4/5] END ..metric=manhattan, n_neighbors=26;, score=0.397 total time=   0.3s\n",
      "[CV 5/5] END ..metric=manhattan, n_neighbors=26;, score=0.385 total time=   0.3s\n",
      "[CV 1/5] END ..metric=manhattan, n_neighbors=27;, score=0.425 total time=   0.3s\n",
      "[CV 2/5] END ..metric=manhattan, n_neighbors=27;, score=0.399 total time=   0.2s\n",
      "[CV 3/5] END ..metric=manhattan, n_neighbors=27;, score=0.387 total time=   0.3s\n",
      "[CV 4/5] END ..metric=manhattan, n_neighbors=27;, score=0.394 total time=   0.2s\n",
      "[CV 5/5] END ..metric=manhattan, n_neighbors=27;, score=0.384 total time=   0.3s\n",
      "[CV 1/5] END ..metric=manhattan, n_neighbors=28;, score=0.423 total time=   0.3s\n",
      "[CV 2/5] END ..metric=manhattan, n_neighbors=28;, score=0.397 total time=   0.3s\n",
      "[CV 3/5] END ..metric=manhattan, n_neighbors=28;, score=0.385 total time=   0.3s\n",
      "[CV 4/5] END ..metric=manhattan, n_neighbors=28;, score=0.391 total time=   0.3s\n",
      "[CV 5/5] END ..metric=manhattan, n_neighbors=28;, score=0.384 total time=   0.3s\n"
     ]
    },
    {
     "data": {
      "text/html": [
       "<style>#sk-container-id-4 {color: black;}#sk-container-id-4 pre{padding: 0;}#sk-container-id-4 div.sk-toggleable {background-color: white;}#sk-container-id-4 label.sk-toggleable__label {cursor: pointer;display: block;width: 100%;margin-bottom: 0;padding: 0.3em;box-sizing: border-box;text-align: center;}#sk-container-id-4 label.sk-toggleable__label-arrow:before {content: \"▸\";float: left;margin-right: 0.25em;color: #696969;}#sk-container-id-4 label.sk-toggleable__label-arrow:hover:before {color: black;}#sk-container-id-4 div.sk-estimator:hover label.sk-toggleable__label-arrow:before {color: black;}#sk-container-id-4 div.sk-toggleable__content {max-height: 0;max-width: 0;overflow: hidden;text-align: left;background-color: #f0f8ff;}#sk-container-id-4 div.sk-toggleable__content pre {margin: 0.2em;color: black;border-radius: 0.25em;background-color: #f0f8ff;}#sk-container-id-4 input.sk-toggleable__control:checked~div.sk-toggleable__content {max-height: 200px;max-width: 100%;overflow: auto;}#sk-container-id-4 input.sk-toggleable__control:checked~label.sk-toggleable__label-arrow:before {content: \"▾\";}#sk-container-id-4 div.sk-estimator input.sk-toggleable__control:checked~label.sk-toggleable__label {background-color: #d4ebff;}#sk-container-id-4 div.sk-label input.sk-toggleable__control:checked~label.sk-toggleable__label {background-color: #d4ebff;}#sk-container-id-4 input.sk-hidden--visually {border: 0;clip: rect(1px 1px 1px 1px);clip: rect(1px, 1px, 1px, 1px);height: 1px;margin: -1px;overflow: hidden;padding: 0;position: absolute;width: 1px;}#sk-container-id-4 div.sk-estimator {font-family: monospace;background-color: #f0f8ff;border: 1px dotted black;border-radius: 0.25em;box-sizing: border-box;margin-bottom: 0.5em;}#sk-container-id-4 div.sk-estimator:hover {background-color: #d4ebff;}#sk-container-id-4 div.sk-parallel-item::after {content: \"\";width: 100%;border-bottom: 1px solid gray;flex-grow: 1;}#sk-container-id-4 div.sk-label:hover label.sk-toggleable__label {background-color: #d4ebff;}#sk-container-id-4 div.sk-serial::before {content: \"\";position: absolute;border-left: 1px solid gray;box-sizing: border-box;top: 0;bottom: 0;left: 50%;z-index: 0;}#sk-container-id-4 div.sk-serial {display: flex;flex-direction: column;align-items: center;background-color: white;padding-right: 0.2em;padding-left: 0.2em;position: relative;}#sk-container-id-4 div.sk-item {position: relative;z-index: 1;}#sk-container-id-4 div.sk-parallel {display: flex;align-items: stretch;justify-content: center;background-color: white;position: relative;}#sk-container-id-4 div.sk-item::before, #sk-container-id-4 div.sk-parallel-item::before {content: \"\";position: absolute;border-left: 1px solid gray;box-sizing: border-box;top: 0;bottom: 0;left: 50%;z-index: -1;}#sk-container-id-4 div.sk-parallel-item {display: flex;flex-direction: column;z-index: 1;position: relative;background-color: white;}#sk-container-id-4 div.sk-parallel-item:first-child::after {align-self: flex-end;width: 50%;}#sk-container-id-4 div.sk-parallel-item:last-child::after {align-self: flex-start;width: 50%;}#sk-container-id-4 div.sk-parallel-item:only-child::after {width: 0;}#sk-container-id-4 div.sk-dashed-wrapped {border: 1px dashed gray;margin: 0 0.4em 0.5em 0.4em;box-sizing: border-box;padding-bottom: 0.4em;background-color: white;}#sk-container-id-4 div.sk-label label {font-family: monospace;font-weight: bold;display: inline-block;line-height: 1.2em;}#sk-container-id-4 div.sk-label-container {text-align: center;}#sk-container-id-4 div.sk-container {/* jupyter's `normalize.less` sets `[hidden] { display: none; }` but bootstrap.min.css set `[hidden] { display: none !important; }` so we also need the `!important` here to be able to override the default hidden behavior on the sphinx rendered scikit-learn.org. See: https://github.com/scikit-learn/scikit-learn/issues/21755 */display: inline-block !important;position: relative;}#sk-container-id-4 div.sk-text-repr-fallback {display: none;}</style><div id=\"sk-container-id-4\" class=\"sk-top-container\"><div class=\"sk-text-repr-fallback\"><pre>GridSearchCV(estimator=KNeighborsRegressor(),\n",
       "             param_grid={&#x27;metric&#x27;: [&#x27;euclidean&#x27;, &#x27;manhattan&#x27;],\n",
       "                         &#x27;n_neighbors&#x27;: [1, 2, 3, 4, 5, 6, 7, 8, 9, 10, 11, 12,\n",
       "                                         13, 14, 15, 16, 17, 18, 19, 20, 21, 22,\n",
       "                                         23, 24, 25, 26, 27, 28]},\n",
       "             verbose=3)</pre><b>In a Jupyter environment, please rerun this cell to show the HTML representation or trust the notebook. <br />On GitHub, the HTML representation is unable to render, please try loading this page with nbviewer.org.</b></div><div class=\"sk-container\" hidden><div class=\"sk-item sk-dashed-wrapped\"><div class=\"sk-label-container\"><div class=\"sk-label sk-toggleable\"><input class=\"sk-toggleable__control sk-hidden--visually\" id=\"sk-estimator-id-6\" type=\"checkbox\" ><label for=\"sk-estimator-id-6\" class=\"sk-toggleable__label sk-toggleable__label-arrow\">GridSearchCV</label><div class=\"sk-toggleable__content\"><pre>GridSearchCV(estimator=KNeighborsRegressor(),\n",
       "             param_grid={&#x27;metric&#x27;: [&#x27;euclidean&#x27;, &#x27;manhattan&#x27;],\n",
       "                         &#x27;n_neighbors&#x27;: [1, 2, 3, 4, 5, 6, 7, 8, 9, 10, 11, 12,\n",
       "                                         13, 14, 15, 16, 17, 18, 19, 20, 21, 22,\n",
       "                                         23, 24, 25, 26, 27, 28]},\n",
       "             verbose=3)</pre></div></div></div><div class=\"sk-parallel\"><div class=\"sk-parallel-item\"><div class=\"sk-item\"><div class=\"sk-label-container\"><div class=\"sk-label sk-toggleable\"><input class=\"sk-toggleable__control sk-hidden--visually\" id=\"sk-estimator-id-7\" type=\"checkbox\" ><label for=\"sk-estimator-id-7\" class=\"sk-toggleable__label sk-toggleable__label-arrow\">estimator: KNeighborsRegressor</label><div class=\"sk-toggleable__content\"><pre>KNeighborsRegressor()</pre></div></div></div><div class=\"sk-serial\"><div class=\"sk-item\"><div class=\"sk-estimator sk-toggleable\"><input class=\"sk-toggleable__control sk-hidden--visually\" id=\"sk-estimator-id-8\" type=\"checkbox\" ><label for=\"sk-estimator-id-8\" class=\"sk-toggleable__label sk-toggleable__label-arrow\">KNeighborsRegressor</label><div class=\"sk-toggleable__content\"><pre>KNeighborsRegressor()</pre></div></div></div></div></div></div></div></div></div></div>"
      ],
      "text/plain": [
       "GridSearchCV(estimator=KNeighborsRegressor(),\n",
       "             param_grid={'metric': ['euclidean', 'manhattan'],\n",
       "                         'n_neighbors': [1, 2, 3, 4, 5, 6, 7, 8, 9, 10, 11, 12,\n",
       "                                         13, 14, 15, 16, 17, 18, 19, 20, 21, 22,\n",
       "                                         23, 24, 25, 26, 27, 28]},\n",
       "             verbose=3)"
      ]
     },
     "execution_count": 46,
     "metadata": {},
     "output_type": "execute_result"
    }
   ],
   "source": [
    "grid = GridSearchCV(KNeighborsRegressor(), param_grid, verbose =3)\n",
    "grid.fit(X_train2,y_train)"
   ]
  },
  {
   "cell_type": "code",
   "execution_count": 47,
   "metadata": {},
   "outputs": [
    {
     "data": {
      "text/plain": [
       "{'metric': 'manhattan', 'n_neighbors': 7}"
      ]
     },
     "execution_count": 47,
     "metadata": {},
     "output_type": "execute_result"
    }
   ],
   "source": [
    "grid.best_params_"
   ]
  },
  {
   "cell_type": "code",
   "execution_count": 48,
   "metadata": {},
   "outputs": [],
   "source": [
    "grid_predictions2 = grid.best_estimator_.predict(X_test2)"
   ]
  },
  {
   "cell_type": "code",
   "execution_count": 49,
   "metadata": {},
   "outputs": [
    {
     "name": "stdout",
     "output_type": "stream",
     "text": [
      "MAE 878.1453484541265\n",
      "MSE 1467524.5647690904\n",
      "RMSE 1211.414282881414\n"
     ]
    }
   ],
   "source": [
    "print(\"MAE\", metrics.mean_absolute_error(y_test,grid_predictions2))\n",
    "print(\"MSE\", metrics.mean_squared_error(y_test,grid_predictions2)) \n",
    "print(\"RMSE\", np.sqrt(metrics.mean_squared_error(y_test,grid_predictions2)))"
   ]
  },
  {
   "cell_type": "markdown",
   "metadata": {},
   "source": [
    "### Conclusion"
   ]
  },
  {
   "cell_type": "markdown",
   "metadata": {},
   "source": [
    "The initial model, utilizing all features, exhibited a faster rate of RMSE decrease compared to the second model, which employed only the minimum necessary features.\n",
    "\n",
    "After plotting the cumulative sum of explained variance, it became evident that by incorporating the 28th component, the cumulative explained variance reached close to 99%. Subsequently, a detailed examination utilizing 28 components confirmed that the cumulative explained variance stood at an impressive 99.65 percent.\n"
   ]
  }
 ],
 "metadata": {
  "kernelspec": {
   "display_name": "Python 3 (ipykernel)",
   "language": "python",
   "name": "python3"
  },
  "language_info": {
   "codemirror_mode": {
    "name": "ipython",
    "version": 3
   },
   "file_extension": ".py",
   "mimetype": "text/x-python",
   "name": "python",
   "nbconvert_exporter": "python",
   "pygments_lexer": "ipython3",
   "version": "3.11.4"
  }
 },
 "nbformat": 4,
 "nbformat_minor": 4
}
